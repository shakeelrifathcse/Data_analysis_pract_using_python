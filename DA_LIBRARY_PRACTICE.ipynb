{
  "nbformat": 4,
  "nbformat_minor": 0,
  "metadata": {
    "colab": {
      "provenance": [],
      "authorship_tag": "ABX9TyPXkTv/Thuxlcr1PA6qQNGB",
      "include_colab_link": true
    },
    "kernelspec": {
      "name": "python3",
      "display_name": "Python 3"
    },
    "language_info": {
      "name": "python"
    }
  },
  "cells": [
    {
      "cell_type": "markdown",
      "metadata": {
        "id": "view-in-github",
        "colab_type": "text"
      },
      "source": [
        "<a href=\"https://colab.research.google.com/github/shakeelrifathcse/Data_analysis_pract_using_python/blob/main/DA_LIBRARY_PRACTICE.ipynb\" target=\"_parent\"><img src=\"https://colab.research.google.com/assets/colab-badge.svg\" alt=\"Open In Colab\"/></a>"
      ]
    },
    {
      "cell_type": "markdown",
      "source": [
        "There are a coupie of important benefits of using Numpy arrays instead of Python lists for\n",
        "operating on numerical data:\n",
        "• Ease of use: You can write small, concise and intutive mathematical expressions like ( kal\n",
        "* weights) . sum( ) rather than using loops & custom functions like crop_yeild .\n",
        "\n",
        "• Performance: Numpy operations and functions are implemented internally in C++, which\n",
        "makes them much faster than using Python statements & loops which are interpreted at\n",
        "runtime"
      ],
      "metadata": {
        "id": "5RHCo_VlzsnN"
      }
    },
    {
      "cell_type": "markdown",
      "source": [
        "Numpy provides hundreds of functions for peforming operations on arrays. Here are some\n",
        "common functions:\n",
        "\n",
        "Mathematics: np. sum , np.exp , np.round , arithemtic operators\n",
        "\n",
        "• Array manipulation: np.res ape , np.stack , np.concatenate , np. split\n",
        "\n",
        "Linear Algebra: np.matmul , np.dot , np.transpose , np.eigvals\n",
        "\n",
        "Statistics: np.mean , np.median , np. std , np.max"
      ],
      "metadata": {
        "id": "eMKY0APb9tIG"
      }
    },
    {
      "cell_type": "code",
      "execution_count": null,
      "metadata": {
        "id": "CG5_N8qvAYnC"
      },
      "outputs": [],
      "source": [
        "import numpy as np"
      ]
    },
    {
      "cell_type": "markdown",
      "source": [
        "A. Introduction to NumPy\n",
        "NumPy (Numerical Python) is a powerful library for numerical computing in Python. It provides support for large multi-dimensional arrays and matrices, and a collection of mathematical functions to operate on these arrays\n"
      ],
      "metadata": {
        "id": "KTvlR7mP2-4n"
      }
    },
    {
      "cell_type": "markdown",
      "source": [
        "Basics of NumPy Arrays"
      ],
      "metadata": {
        "id": "9_wNpD6t3Gk_"
      }
    },
    {
      "cell_type": "code",
      "source": [
        "arr = np.array([[1,2,3],[4,5,6],[8,9,80]])\n",
        "print(arr)"
      ],
      "metadata": {
        "colab": {
          "base_uri": "https://localhost:8080/"
        },
        "id": "i5AKzOUFAtwj",
        "outputId": "adfbeb10-99b6-4cef-f9e4-ce28fa1d8c67"
      },
      "execution_count": null,
      "outputs": [
        {
          "output_type": "stream",
          "name": "stdout",
          "text": [
            "[[ 1  2  3]\n",
            " [ 4  5  6]\n",
            " [ 8  9 80]]\n"
          ]
        }
      ]
    },
    {
      "cell_type": "code",
      "source": [
        "print(arr.shape)"
      ],
      "metadata": {
        "colab": {
          "base_uri": "https://localhost:8080/"
        },
        "id": "S4TD7GHzA5ZH",
        "outputId": "42ed83aa-e5e1-4661-8968-1158aa5f4d72"
      },
      "execution_count": null,
      "outputs": [
        {
          "output_type": "stream",
          "name": "stdout",
          "text": [
            "(3, 3)\n"
          ]
        }
      ]
    },
    {
      "cell_type": "code",
      "source": [
        "print(arr.dtype)\n",
        "print(arr.ndim)"
      ],
      "metadata": {
        "colab": {
          "base_uri": "https://localhost:8080/"
        },
        "id": "Mg8CkPfvBFDC",
        "outputId": "2a0278d4-71b9-4bd1-809a-e7f9e4644910"
      },
      "execution_count": null,
      "outputs": [
        {
          "output_type": "stream",
          "name": "stdout",
          "text": [
            "int64\n",
            "2\n"
          ]
        }
      ]
    },
    {
      "cell_type": "markdown",
      "source": [
        "Array Indexing and Slicing"
      ],
      "metadata": {
        "id": "Lz5SeSlq3UN7"
      }
    },
    {
      "cell_type": "code",
      "source": [
        "a = np.array([1,2,3,4,5,6,7,8,9,10])\n",
        "print(a[0:4])\n",
        "print(a[-2:])\n",
        "print(a[2:8])\n"
      ],
      "metadata": {
        "colab": {
          "base_uri": "https://localhost:8080/"
        },
        "id": "WckL_4iUCF8T",
        "outputId": "cf649caf-eaa2-4405-f075-890f87965bbf"
      },
      "execution_count": null,
      "outputs": [
        {
          "output_type": "stream",
          "name": "stdout",
          "text": [
            "[1 2 3 4]\n",
            "[ 9 10]\n",
            "[3 4 5 6 7 8]\n"
          ]
        }
      ]
    },
    {
      "cell_type": "markdown",
      "source": [
        "Array Operations"
      ],
      "metadata": {
        "id": "nx4jRQXz3Yab"
      }
    },
    {
      "cell_type": "code",
      "source": [
        "arr1 = np.array([1,2,3])\n",
        "arr2 = np.array([5,5,5])\n",
        "arr3 = arr1 + arr2\n",
        "print(arr3)\n",
        "print(arr1 ** 2)\n",
        "print(arr3 * 2)"
      ],
      "metadata": {
        "colab": {
          "base_uri": "https://localhost:8080/"
        },
        "id": "Vjrn67ZYFa5x",
        "outputId": "39b2e4e6-92bb-48c3-fb2c-a42c77d1a26f"
      },
      "execution_count": null,
      "outputs": [
        {
          "output_type": "stream",
          "name": "stdout",
          "text": [
            "[6 7 8]\n",
            "[1 4 9]\n",
            "[12 14 16]\n"
          ]
        }
      ]
    },
    {
      "cell_type": "markdown",
      "source": [
        "Multi-Dimensional Arrays"
      ],
      "metadata": {
        "id": "h7ETpx1Y3bbf"
      }
    },
    {
      "cell_type": "code",
      "source": [
        "matrix = np.array([[1,2,3,4],[5,6,7,8]])\n",
        "print(matrix)"
      ],
      "metadata": {
        "colab": {
          "base_uri": "https://localhost:8080/"
        },
        "id": "W6ElCCk3G0_Z",
        "outputId": "54f384d0-6d3b-4ee8-e44b-65a582cc10fe"
      },
      "execution_count": null,
      "outputs": [
        {
          "output_type": "stream",
          "name": "stdout",
          "text": [
            "[[1 2 3 4]\n",
            " [5 6 7 8]]\n"
          ]
        }
      ]
    },
    {
      "cell_type": "code",
      "source": [
        "print(matrix[0,1])"
      ],
      "metadata": {
        "colab": {
          "base_uri": "https://localhost:8080/"
        },
        "id": "uCHu850kHX26",
        "outputId": "a1bb7a63-cbbe-4dad-8d73-cabebd832dde"
      },
      "execution_count": null,
      "outputs": [
        {
          "output_type": "stream",
          "name": "stdout",
          "text": [
            "2\n"
          ]
        }
      ]
    },
    {
      "cell_type": "code",
      "source": [
        "x = np.array([[1,2,3],[4,5,6],[7,8,9]])\n",
        "print(x)\n",
        "print()\n",
        "#...........................#\n",
        "print(x[1])\n"
      ],
      "metadata": {
        "colab": {
          "base_uri": "https://localhost:8080/"
        },
        "id": "khca07MyHkCZ",
        "outputId": "6259d83f-0215-4e87-c999-ed28a49b8e0c"
      },
      "execution_count": null,
      "outputs": [
        {
          "output_type": "stream",
          "name": "stdout",
          "text": [
            "[[1 2 3]\n",
            " [4 5 6]\n",
            " [7 8 9]]\n",
            "\n",
            "[4 5 6]\n"
          ]
        }
      ]
    },
    {
      "cell_type": "code",
      "source": [
        "print(x[0])"
      ],
      "metadata": {
        "colab": {
          "base_uri": "https://localhost:8080/"
        },
        "id": "niLTcxJwIxP4",
        "outputId": "70eead3e-c129-45b5-e156-60f57305065e"
      },
      "execution_count": null,
      "outputs": [
        {
          "output_type": "stream",
          "name": "stdout",
          "text": [
            "[1 2 3]\n"
          ]
        }
      ]
    },
    {
      "cell_type": "markdown",
      "source": [
        "Array Manipulation"
      ],
      "metadata": {
        "id": "PBA0BBCx3icK"
      }
    },
    {
      "cell_type": "code",
      "source": [
        "a =np.array([1,2,3,4,5,6])\n",
        "ra = a.reshape(3,2, order =\"c\")\n",
        "print(ra)"
      ],
      "metadata": {
        "colab": {
          "base_uri": "https://localhost:8080/"
        },
        "id": "4WLggvJeheH8",
        "outputId": "44bcbd34-c7da-45e9-9afd-419ad714a09c"
      },
      "execution_count": null,
      "outputs": [
        {
          "output_type": "stream",
          "name": "stdout",
          "text": [
            "[[1 2]\n",
            " [3 4]\n",
            " [5 6]]\n"
          ]
        }
      ]
    },
    {
      "cell_type": "code",
      "source": [
        "h = ra.flatten()\n",
        "print(h)"
      ],
      "metadata": {
        "colab": {
          "base_uri": "https://localhost:8080/"
        },
        "id": "rTEDqUlT0zdA",
        "outputId": "8ae1ea35-1d9a-43e8-9d3f-76efa9298bc8"
      },
      "execution_count": null,
      "outputs": [
        {
          "output_type": "stream",
          "name": "stdout",
          "text": [
            "[1 2 3 4 5 6]\n"
          ]
        }
      ]
    },
    {
      "cell_type": "markdown",
      "source": [
        "Array Aggregation and descriptive analysis\n"
      ],
      "metadata": {
        "id": "EzL5EhoG3ksa"
      }
    },
    {
      "cell_type": "code",
      "source": [
        "arr = np.array(range(13))\n",
        "print(arr)\n",
        "print(np.sum(arr))\n",
        "print(np.mean(arr))\n",
        "print(np.median(arr))\n",
        "print(np.std(arr))\n",
        "print(np.max(arr))\n"
      ],
      "metadata": {
        "colab": {
          "base_uri": "https://localhost:8080/"
        },
        "id": "CDQx4v2N1O7V",
        "outputId": "757575c3-dc10-4602-af4f-3452b419d2b2"
      },
      "execution_count": null,
      "outputs": [
        {
          "output_type": "stream",
          "name": "stdout",
          "text": [
            "[ 0  1  2  3  4  5  6  7  8  9 10 11 12]\n",
            "78\n",
            "6.0\n",
            "6.0\n",
            "3.7416573867739413\n",
            "12\n"
          ]
        }
      ]
    },
    {
      "cell_type": "markdown",
      "source": [
        "Broadcasting"
      ],
      "metadata": {
        "id": "LKzQPMVz1q5E"
      }
    },
    {
      "cell_type": "code",
      "source": [
        "arr1 = np.array([1, 2, 3])\n",
        "arr2 = np.array([[1], [2], [3]])\n",
        "print(arr1 + arr2)\n"
      ],
      "metadata": {
        "colab": {
          "base_uri": "https://localhost:8080/"
        },
        "id": "gakyyp193xDH",
        "outputId": "ef2bac59-8fbf-4cb8-9760-4a0153b2552c"
      },
      "execution_count": null,
      "outputs": [
        {
          "output_type": "stream",
          "name": "stdout",
          "text": [
            "[[2 3 4]\n",
            " [3 4 5]\n",
            " [4 5 6]]\n"
          ]
        }
      ]
    },
    {
      "cell_type": "markdown",
      "source": [
        " Random Numbers"
      ],
      "metadata": {
        "id": "6VxheNYf33IV"
      }
    },
    {
      "cell_type": "code",
      "source": [
        "random_arr = np.random.randint(1,100, size = (100, 2))\n",
        "random_arr2 = np.random.rand(5,5)\n",
        "print(random_arr2)\n",
        "print(random_arr)"
      ],
      "metadata": {
        "colab": {
          "base_uri": "https://localhost:8080/"
        },
        "id": "A8V80BHp4NCI",
        "outputId": "525e6e38-117c-4912-9bc9-ba0fa2ca1891"
      },
      "execution_count": null,
      "outputs": [
        {
          "output_type": "stream",
          "name": "stdout",
          "text": [
            "[[0.18962989 0.69257276 0.75462793 0.11059673 0.69767233]\n",
            " [0.40327291 0.79563409 0.71498027 0.80696263 0.81496291]\n",
            " [0.97524555 0.88971011 0.19164152 0.4693481  0.53304033]\n",
            " [0.68812901 0.50007357 0.23374895 0.51349581 0.65836014]\n",
            " [0.91355746 0.18432588 0.98591687 0.64098232 0.80769585]]\n",
            "[[ 4 51]\n",
            " [ 9 94]\n",
            " [25 94]\n",
            " [61 86]\n",
            " [51  6]\n",
            " [16 47]\n",
            " [70  2]\n",
            " [81 18]\n",
            " [60 70]\n",
            " [ 9 84]\n",
            " [47 29]\n",
            " [89 37]\n",
            " [ 6 81]\n",
            " [14 35]\n",
            " [65  3]\n",
            " [46 24]\n",
            " [51 13]\n",
            " [90 25]\n",
            " [87 46]\n",
            " [93 25]\n",
            " [59 15]\n",
            " [35 58]\n",
            " [73 83]\n",
            " [68 71]\n",
            " [23  8]\n",
            " [22 33]\n",
            " [11 59]\n",
            " [18 61]\n",
            " [37 45]\n",
            " [57 90]\n",
            " [63 63]\n",
            " [87  3]\n",
            " [67 82]\n",
            " [75 20]\n",
            " [92 24]\n",
            " [76 48]\n",
            " [ 6 66]\n",
            " [82  5]\n",
            " [58 75]\n",
            " [50 26]\n",
            " [40 25]\n",
            " [80 82]\n",
            " [ 9 99]\n",
            " [22 26]\n",
            " [25 99]\n",
            " [12 74]\n",
            " [36 70]\n",
            " [77 26]\n",
            " [87 55]\n",
            " [18 13]\n",
            " [90 81]\n",
            " [89 28]\n",
            " [65 24]\n",
            " [ 4 63]\n",
            " [24 70]\n",
            " [ 2 65]\n",
            " [99 99]\n",
            " [62 23]\n",
            " [ 2 95]\n",
            " [95 70]\n",
            " [94 87]\n",
            " [87 60]\n",
            " [47 63]\n",
            " [97 10]\n",
            " [67 35]\n",
            " [29 61]\n",
            " [38 20]\n",
            " [97 16]\n",
            " [24 23]\n",
            " [31 42]\n",
            " [45 52]\n",
            " [72 51]\n",
            " [84 26]\n",
            " [53 72]\n",
            " [26 98]\n",
            " [67 52]\n",
            " [18 78]\n",
            " [37 65]\n",
            " [34  9]\n",
            " [59 25]\n",
            " [17 89]\n",
            " [58 24]\n",
            " [80 41]\n",
            " [19 33]\n",
            " [65 58]\n",
            " [ 8 51]\n",
            " [10 18]\n",
            " [78 31]\n",
            " [19 49]\n",
            " [31 20]\n",
            " [16 47]\n",
            " [44 88]\n",
            " [ 6 60]\n",
            " [89  8]\n",
            " [16 30]\n",
            " [69 58]\n",
            " [47 55]\n",
            " [25 44]\n",
            " [97 25]\n",
            " [34 67]]\n"
          ]
        }
      ]
    },
    {
      "cell_type": "markdown",
      "source": [
        "Saving and Loading"
      ],
      "metadata": {
        "id": "a-eoGwNS4QQ3"
      }
    },
    {
      "cell_type": "code",
      "source": [
        "np.save('my_array.npy', arr)  # Save array to file\n",
        "loaded_arr = np.load('my_array.npy')  # Load array from file\n",
        "print(loaded_arr)\n"
      ],
      "metadata": {
        "colab": {
          "base_uri": "https://localhost:8080/"
        },
        "id": "gte1hQ9l5OFB",
        "outputId": "7821ff0f-016b-4fd0-9c14-dbf52ee33fea"
      },
      "execution_count": null,
      "outputs": [
        {
          "output_type": "stream",
          "name": "stdout",
          "text": [
            "[ 0  1  2  3  4  5  6  7  8  9 10 11 12]\n"
          ]
        }
      ]
    },
    {
      "cell_type": "markdown",
      "source": [
        "# numpy for data analysis"
      ],
      "metadata": {
        "id": "X0VBsdbu5Slp"
      }
    },
    {
      "cell_type": "code",
      "source": [
        "import numpy as np\n",
        "\n",
        "# Creating a 1D array\n",
        "arr1d = np.array([1, 2, 3, 4, 5])\n",
        "\n",
        "# Creating a 2D array (matrix)\n",
        "arr2d = np.array([[1, 2, 3], [4, 5, 6]])\n",
        "\n",
        "# Array of zeros and ones\n",
        "zeros = np.zeros((3, 3))\n",
        "ones = np.ones((2, 2))\n",
        "print(arr1d)\n",
        "print(arr2d)\n",
        "print(zeros)\n",
        "print(h)\n"
      ],
      "metadata": {
        "id": "HZq6XdpR5aoN",
        "colab": {
          "base_uri": "https://localhost:8080/"
        },
        "outputId": "0b44ddff-c373-4381-f660-37a185fb9fc9"
      },
      "execution_count": null,
      "outputs": [
        {
          "output_type": "stream",
          "name": "stdout",
          "text": [
            "[1 2 3 4 5]\n",
            "[[1 2 3]\n",
            " [4 5 6]]\n",
            "[[0. 0. 0.]\n",
            " [0. 0. 0.]\n",
            " [0. 0. 0.]]\n",
            "[1 2 3 4 5 6]\n"
          ]
        }
      ]
    },
    {
      "cell_type": "code",
      "source": [
        "# Indexing a 1D array\n",
        "print(arr1d[0])   # Access first element\n",
        "\n",
        "# Indexing a 2D array\n",
        "print(arr2d[1, 2])  # Access element at 2nd row, 3rd column\n",
        "\n",
        "# Slicing a 1D array\n",
        "print(arr1d[1:4])   # Slice elements from index 1 to 3\n"
      ],
      "metadata": {
        "colab": {
          "base_uri": "https://localhost:8080/"
        },
        "id": "ml2YAg1PNAUJ",
        "outputId": "4e9d1fbd-ad1e-49b6-c377-cabf972faffe"
      },
      "execution_count": null,
      "outputs": [
        {
          "output_type": "stream",
          "name": "stdout",
          "text": [
            "1\n",
            "6\n",
            "[2 3 4]\n"
          ]
        }
      ]
    },
    {
      "cell_type": "code",
      "source": [
        "# Element-wise addition, subtraction, multiplication, and division\n",
        "arr1d_2 = np.array([5, 6, 7, 8, 9])\n",
        "\n",
        "# Add two arrays\n",
        "result_add = arr1d + arr1d_2\n",
        "\n",
        "# Multiply arrays\n",
        "result_mul = arr1d * 2\n",
        "\n",
        "# Broadcasting (works on arrays of different shapes)\n",
        "result_broadcast = arr1d / 2  # Add 2 to each element\n",
        "\n",
        "print(result_add)\n",
        "print(result_mul)\n",
        "print(result_broadcast)\n"
      ],
      "metadata": {
        "colab": {
          "base_uri": "https://localhost:8080/"
        },
        "id": "2RhSVQ96NCC_",
        "outputId": "b51f267c-48eb-4dae-feee-8919b04e6cf4"
      },
      "execution_count": null,
      "outputs": [
        {
          "output_type": "stream",
          "name": "stdout",
          "text": [
            "[ 6  8 10 12 14]\n",
            "[ 2  4  6  8 10]\n",
            "[0.5 1.  1.5 2.  2.5]\n"
          ]
        }
      ]
    },
    {
      "cell_type": "code",
      "source": [
        "# Generating random data\n",
        "data = np.random.randint(40, 100,size =(100,1))\n",
        "print(data)\n",
        "\n",
        "# Mean, standard deviation, and variance\n",
        "mean = np.mean(data)\n",
        "print()\n",
        "std_dev = np.std(data)\n",
        "\n",
        "variance = np.var(data)\n",
        "\n",
        "# Percentiles\n",
        "percentile_25 = np.percentile(data, 25)\n",
        "median = np.median(data)\n",
        "\n",
        "print(f\"Mean: {mean}, Std Dev: {std_dev}, Variance: {variance}\")\n",
        "print(f\"25th Percentile: {percentile_25}, Median: {median}\")\n"
      ],
      "metadata": {
        "colab": {
          "base_uri": "https://localhost:8080/"
        },
        "id": "2Poma7YtOK1v",
        "outputId": "844578be-e892-4045-d246-a89102f99064"
      },
      "execution_count": null,
      "outputs": [
        {
          "output_type": "stream",
          "name": "stdout",
          "text": [
            "[[74]\n",
            " [91]\n",
            " [84]\n",
            " [97]\n",
            " [77]\n",
            " [75]\n",
            " [47]\n",
            " [62]\n",
            " [41]\n",
            " [59]\n",
            " [83]\n",
            " [79]\n",
            " [45]\n",
            " [91]\n",
            " [55]\n",
            " [48]\n",
            " [41]\n",
            " [50]\n",
            " [71]\n",
            " [60]\n",
            " [92]\n",
            " [56]\n",
            " [85]\n",
            " [90]\n",
            " [70]\n",
            " [73]\n",
            " [89]\n",
            " [83]\n",
            " [64]\n",
            " [99]\n",
            " [98]\n",
            " [41]\n",
            " [62]\n",
            " [93]\n",
            " [82]\n",
            " [86]\n",
            " [83]\n",
            " [61]\n",
            " [55]\n",
            " [61]\n",
            " [86]\n",
            " [79]\n",
            " [66]\n",
            " [98]\n",
            " [99]\n",
            " [66]\n",
            " [84]\n",
            " [85]\n",
            " [77]\n",
            " [60]\n",
            " [47]\n",
            " [70]\n",
            " [98]\n",
            " [66]\n",
            " [67]\n",
            " [82]\n",
            " [98]\n",
            " [86]\n",
            " [42]\n",
            " [69]\n",
            " [87]\n",
            " [87]\n",
            " [68]\n",
            " [93]\n",
            " [85]\n",
            " [77]\n",
            " [56]\n",
            " [94]\n",
            " [86]\n",
            " [84]\n",
            " [40]\n",
            " [48]\n",
            " [65]\n",
            " [72]\n",
            " [68]\n",
            " [60]\n",
            " [66]\n",
            " [52]\n",
            " [75]\n",
            " [84]\n",
            " [46]\n",
            " [72]\n",
            " [71]\n",
            " [67]\n",
            " [90]\n",
            " [50]\n",
            " [93]\n",
            " [44]\n",
            " [56]\n",
            " [50]\n",
            " [80]\n",
            " [83]\n",
            " [68]\n",
            " [86]\n",
            " [42]\n",
            " [82]\n",
            " [61]\n",
            " [69]\n",
            " [98]\n",
            " [45]]\n",
            "\n",
            "Mean: 71.78, Std Dev: 16.927244312055045, Variance: 286.5315999999999\n",
            "25th Percentile: 60.0, Median: 72.0\n"
          ]
        }
      ]
    },
    {
      "cell_type": "code",
      "source": [
        "# Sorting an array\n",
        "sorted_data = np.sort(data)\n",
        "print(sorted_data)\n",
        "\n",
        "\n"
      ],
      "metadata": {
        "colab": {
          "base_uri": "https://localhost:8080/"
        },
        "id": "XcUpXvpMPUj_",
        "outputId": "cbe06bca-02ac-42d7-d622-60f431aca74c"
      },
      "execution_count": null,
      "outputs": [
        {
          "output_type": "stream",
          "name": "stdout",
          "text": [
            "[[74]\n",
            " [91]\n",
            " [84]\n",
            " [97]\n",
            " [77]\n",
            " [75]\n",
            " [47]\n",
            " [62]\n",
            " [41]\n",
            " [59]\n",
            " [83]\n",
            " [79]\n",
            " [45]\n",
            " [91]\n",
            " [55]\n",
            " [48]\n",
            " [41]\n",
            " [50]\n",
            " [71]\n",
            " [60]\n",
            " [92]\n",
            " [56]\n",
            " [85]\n",
            " [90]\n",
            " [70]\n",
            " [73]\n",
            " [89]\n",
            " [83]\n",
            " [64]\n",
            " [99]\n",
            " [98]\n",
            " [41]\n",
            " [62]\n",
            " [93]\n",
            " [82]\n",
            " [86]\n",
            " [83]\n",
            " [61]\n",
            " [55]\n",
            " [61]\n",
            " [86]\n",
            " [79]\n",
            " [66]\n",
            " [98]\n",
            " [99]\n",
            " [66]\n",
            " [84]\n",
            " [85]\n",
            " [77]\n",
            " [60]\n",
            " [47]\n",
            " [70]\n",
            " [98]\n",
            " [66]\n",
            " [67]\n",
            " [82]\n",
            " [98]\n",
            " [86]\n",
            " [42]\n",
            " [69]\n",
            " [87]\n",
            " [87]\n",
            " [68]\n",
            " [93]\n",
            " [85]\n",
            " [77]\n",
            " [56]\n",
            " [94]\n",
            " [86]\n",
            " [84]\n",
            " [40]\n",
            " [48]\n",
            " [65]\n",
            " [72]\n",
            " [68]\n",
            " [60]\n",
            " [66]\n",
            " [52]\n",
            " [75]\n",
            " [84]\n",
            " [46]\n",
            " [72]\n",
            " [71]\n",
            " [67]\n",
            " [90]\n",
            " [50]\n",
            " [93]\n",
            " [44]\n",
            " [56]\n",
            " [50]\n",
            " [80]\n",
            " [83]\n",
            " [68]\n",
            " [86]\n",
            " [42]\n",
            " [82]\n",
            " [61]\n",
            " [69]\n",
            " [98]\n",
            " [45]]\n"
          ]
        }
      ]
    },
    {
      "cell_type": "code",
      "source": [
        "# Sorting an array\n",
        "sorted_data = np.sort(data)\n",
        "\n",
        "# Finding the index of max and min values\n",
        "max_index = np.argmax(data)\n",
        "min_index = np.argmin(data)\n",
        "\n",
        "# Count occurrences of values (e.g., how many times '5' appears)\n",
        "unique_values, counts = np.unique(data, return_counts=True)\n",
        "\n",
        "print(f\"Max at index: {max_index}, Min at index: {min_index}\")\n",
        "print(f\"Unique values: {unique_values}, Counts: {counts}\")\n"
      ],
      "metadata": {
        "colab": {
          "base_uri": "https://localhost:8080/"
        },
        "id": "P6GCAVfiQs_Q",
        "outputId": "8c2c64b0-2685-4fe6-b04b-459432062f11"
      },
      "execution_count": null,
      "outputs": [
        {
          "output_type": "stream",
          "name": "stdout",
          "text": [
            "Max at index: 29, Min at index: 70\n",
            "Unique values: [40 41 42 44 45 46 47 48 50 52 55 56 59 60 61 62 64 65 66 67 68 69 70 71\n",
            " 72 73 74 75 77 79 80 82 83 84 85 86 87 89 90 91 92 93 94 97 98 99], Counts: [1 3 2 1 2 1 2 2 3 1 2 3 1 3 3 2 1 1 4 2 3 2 2 2 2 1 1 2 3 2 1 3 4 4 3 5 2\n",
            " 1 2 2 1 3 1 1 5 2]\n"
          ]
        }
      ]
    },
    {
      "cell_type": "code",
      "source": [
        "# Broadcasting example\n",
        "arr_broadcast = np.array([1, 2, 3])\n",
        "broadcast_result = arr_broadcast * np.array([5])\n",
        "\n",
        "print(broadcast_result)\n"
      ],
      "metadata": {
        "colab": {
          "base_uri": "https://localhost:8080/"
        },
        "id": "xqqS49A4RCc7",
        "outputId": "f4625773-108b-4af5-a101-d9c45875395e"
      },
      "execution_count": null,
      "outputs": [
        {
          "output_type": "stream",
          "name": "stdout",
          "text": [
            "[ 5 10 15]\n"
          ]
        }
      ]
    },
    {
      "cell_type": "code",
      "source": [
        "# Saving arrays to files\n",
        "np.save(\"data.npy\", arr1d)\n",
        "\n",
        "# Loading arrays from files\n",
        "loaded_data = np.load(\"data.npy\")\n",
        "\n",
        "print(loaded_data)\n"
      ],
      "metadata": {
        "colab": {
          "base_uri": "https://localhost:8080/"
        },
        "id": "J3BMNGN4ST19",
        "outputId": "20a8dba1-4f2a-4847-d131-effb53c42b91"
      },
      "execution_count": null,
      "outputs": [
        {
          "output_type": "stream",
          "name": "stdout",
          "text": [
            "[1 2 3 4 5]\n"
          ]
        }
      ]
    },
    {
      "cell_type": "markdown",
      "source": [
        "# Pandas"
      ],
      "metadata": {
        "id": "lY56jPzDs1eI"
      }
    },
    {
      "cell_type": "code",
      "source": [
        "import pandas as pd\n",
        "\n",
        "# Series\n",
        "# A pandas Series is a one-dimensional array with labels.\n",
        "\n",
        "# Examples\n",
        "list_data = [1, 2, 3, 4, 5]\n",
        "series = pd.Series(list_data)\n",
        "print(series)\n",
        "\n",
        "# Series with Dictionary:\n",
        "dict_data = {'a': 1, 'b': 2, 'c': 3}\n",
        "series = pd.Series(dict_data)\n",
        "print(series)\n",
        "\n",
        "# Series with Custom Indexes\n",
        "enrollments = [100, 200, 300, 400, 500]\n",
        "months = ['Jan', 'Feb', 'Mar', 'Apr', 'May']\n",
        "series = pd.Series(enrollments, index=months)\n",
        "print(series)"
      ],
      "metadata": {
        "colab": {
          "base_uri": "https://localhost:8080/"
        },
        "id": "rsuxHaAbSt9H",
        "outputId": "1f97bc7f-198f-4d0d-a1d9-06025c73c297"
      },
      "execution_count": null,
      "outputs": [
        {
          "output_type": "stream",
          "name": "stdout",
          "text": [
            "0    1\n",
            "1    2\n",
            "2    3\n",
            "3    4\n",
            "4    5\n",
            "dtype: int64\n",
            "a    1\n",
            "b    2\n",
            "c    3\n",
            "dtype: int64\n",
            "Jan    100\n",
            "Feb    200\n",
            "Mar    300\n",
            "Apr    400\n",
            "May    500\n",
            "dtype: int64\n"
          ]
        }
      ]
    },
    {
      "cell_type": "code",
      "source": [
        "# Accessing the series Data:\n",
        "\n",
        "# Accessing by the Position or Index\n",
        "print(series[0])  # 100\n",
        "# Accessing by the Label\n",
        "print(series['Jan'])  # 100\n",
        "# Accessing as Slicing\n",
        "print(series[1:3])  # Feb    200\n",
        "                    # Mar    300\n",
        "print(series['Feb':'Apr'])  # Feb    200\n",
        "                            # Mar    300\n",
        "# Accessing Multiple Elements\n",
        "print(series[['Jan', 'Mar', 'May']])  # Jan    100\n",
        "                                      # Mar    300\n",
        "                                      # May    500"
      ],
      "metadata": {
        "colab": {
          "base_uri": "https://localhost:8080/"
        },
        "id": "Q-pW8P5qTset",
        "outputId": "84cc6495-fb4d-4a66-9068-416d09314b86"
      },
      "execution_count": null,
      "outputs": [
        {
          "output_type": "stream",
          "name": "stdout",
          "text": [
            "100\n",
            "100\n",
            "Feb    200\n",
            "Mar    300\n",
            "dtype: int64\n",
            "Feb    200\n",
            "Mar    300\n",
            "Apr    400\n",
            "dtype: int64\n",
            "Jan    100\n",
            "Mar    300\n",
            "May    500\n",
            "dtype: int64\n"
          ]
        },
        {
          "output_type": "stream",
          "name": "stderr",
          "text": [
            "<ipython-input-26-5a229c49b5ed>:4: FutureWarning: Series.__getitem__ treating keys as positions is deprecated. In a future version, integer keys will always be treated as labels (consistent with DataFrame behavior). To access a value by position, use `ser.iloc[pos]`\n",
            "  print(series[0])  # 100\n"
          ]
        }
      ]
    },
    {
      "cell_type": "code",
      "source": [
        "# Series Operations:\n",
        "\n",
        "series = pd.Series([1, 2, 3, 4, None])\n",
        "print(series + 10) # Add 10 to each element\n",
        "print(series - 10) # Subtract 10 from each element\n",
        "print(series * 10) # Multiply each element by 10"
      ],
      "metadata": {
        "colab": {
          "base_uri": "https://localhost:8080/"
        },
        "id": "3hclYsnWT4Wm",
        "outputId": "881fd5c1-527a-47b3-ce8f-849f4ff64347"
      },
      "execution_count": null,
      "outputs": [
        {
          "output_type": "stream",
          "name": "stdout",
          "text": [
            "0    11.0\n",
            "1    12.0\n",
            "2    13.0\n",
            "3    14.0\n",
            "4     NaN\n",
            "dtype: float64\n",
            "0   -9.0\n",
            "1   -8.0\n",
            "2   -7.0\n",
            "3   -6.0\n",
            "4    NaN\n",
            "dtype: float64\n",
            "0    10.0\n",
            "1    20.0\n",
            "2    30.0\n",
            "3    40.0\n",
            "4     NaN\n",
            "dtype: float64\n"
          ]
        }
      ]
    },
    {
      "cell_type": "code",
      "source": [
        "# Attributes\n",
        "\n",
        "print(series.size)  # 5\n",
        "print(series.shape) # (5,)\n",
        "print(series.dtype) # int64\n",
        "print(series.index) # RangeIndex(start=0, stop=5, step=1)\n",
        "print(series.values) # [1 2 3 4 5]\n",
        "print(series.isnull()) # False\n",
        "print(series.notnull()) # True"
      ],
      "metadata": {
        "colab": {
          "base_uri": "https://localhost:8080/"
        },
        "id": "rYIYmpb3UPMH",
        "outputId": "f89532ad-8535-464f-92ba-e94326c33862"
      },
      "execution_count": null,
      "outputs": [
        {
          "output_type": "stream",
          "name": "stdout",
          "text": [
            "5\n",
            "(5,)\n",
            "float64\n",
            "RangeIndex(start=0, stop=5, step=1)\n",
            "[ 1.  2.  3.  4. nan]\n",
            "0    False\n",
            "1    False\n",
            "2    False\n",
            "3    False\n",
            "4     True\n",
            "dtype: bool\n",
            "0     True\n",
            "1     True\n",
            "2     True\n",
            "3     True\n",
            "4    False\n",
            "dtype: bool\n"
          ]
        }
      ]
    },
    {
      "cell_type": "code",
      "source": [
        "\n",
        "\n",
        "print(series.sum()) # 15\n",
        "print(series.mean()) # 3.0\n",
        "print(series.median()) # 3.0\n",
        "print(series.count()) # 5"
      ],
      "metadata": {
        "colab": {
          "base_uri": "https://localhost:8080/"
        },
        "id": "mnM7Z_rdUUjm",
        "outputId": "84484e12-1eef-412b-a366-df74a2f900b7"
      },
      "execution_count": null,
      "outputs": [
        {
          "output_type": "stream",
          "name": "stdout",
          "text": [
            "10.0\n",
            "2.5\n",
            "2.5\n",
            "4\n"
          ]
        }
      ]
    },
    {
      "cell_type": "markdown",
      "source": [
        "Homeworrk by nexturn"
      ],
      "metadata": {
        "id": "Rlc3YjRuY1yy"
      }
    },
    {
      "cell_type": "code",
      "source": [
        "sales_data = pd.Series([150, 200, 90, 120, 300],\n",
        "    index=['Product A', 'Product B', 'Product C', 'Product D', 'Product E'],)\n",
        "\n",
        "print(sales_data)\n",
        "\n",
        "\n",
        "# Exercise 2: Total Sales for the Week\n",
        "\"\"\"Considering we have a one week of sales data from monday to friday\"\"\"\n",
        "total_sales = sales_data.sum()\n",
        "print(\"Total Sales for the Week :\",total_sales)\n",
        "\n",
        "# Exercise 3: Average Sales for the Week\n",
        "average = sales_data.mean()\n",
        "print(\"Avg sales :\",average)\n",
        "\n",
        "# Exercise 4 : Highest and Lowest Selling Products\n",
        "highest_selling = sales_data.idxmax()\n",
        "lowest_selling = sales_data.idxmin()\n",
        "\n",
        "print(\"Highest Selling Product:\", highest_selling)\n",
        "print(\"Lowest Selling Product:\", lowest_selling)\n",
        "\n",
        "#Checking the product with Low Sales\n",
        "high_sales = sales_data[sales_data > 150]\n",
        "print(\"Products with Sales above 150 units:\\n\", high_sales)\n",
        "\n",
        "#Checking the product with Low Sales\n",
        "low_sales = sales_data[sales_data < 100]\n",
        "print(\"Products with Low Sales:\\n\", low_sales)\n",
        "\n",
        "sales_data['Product F'] = 100\n",
        "print(\"Updated Sales Data:\\n\", sales_data)\n",
        "\n",
        "\n",
        "\n",
        "\n",
        "\n",
        "\n",
        "\n",
        "\n",
        "\n",
        "\n",
        "\n",
        "\n",
        "\n",
        "\n"
      ],
      "metadata": {
        "colab": {
          "base_uri": "https://localhost:8080/"
        },
        "id": "huavt23YU0xB",
        "outputId": "f8ec1a8a-4ddb-4cfa-d7f3-54d749d4c4ec"
      },
      "execution_count": null,
      "outputs": [
        {
          "output_type": "stream",
          "name": "stdout",
          "text": [
            "Product A    150\n",
            "Product B    200\n",
            "Product C     90\n",
            "Product D    120\n",
            "Product E    300\n",
            "dtype: int64\n",
            "Total Sales for the Week : 860\n",
            "Avg sales : 172.0\n",
            "Highest Selling Product: Product E\n",
            "Lowest Selling Product: Product C\n",
            "Products with Sales above 150 units:\n",
            " Product B    200\n",
            "Product E    300\n",
            "dtype: int64\n",
            "Products with Low Sales:\n",
            " Product C    90\n",
            "dtype: int64\n",
            "Updated Sales Data:\n",
            " Product A    150\n",
            "Product B    200\n",
            "Product C     90\n",
            "Product D    120\n",
            "Product E    300\n",
            "Product F    100\n",
            "dtype: int64\n"
          ]
        }
      ]
    },
    {
      "cell_type": "code",
      "source": [
        "import pandas as pd\n",
        "\n",
        "# Creating a panda dataframe for Product Sales from a dictionary\n",
        "\n",
        "data = {\n",
        "    'Product': ['Product A', 'Product B', 'Product C', 'Product D'],\n",
        "    'Price': [150, 200, 90, 120],\n",
        "    'Units Sold': [100, 150, 50, 70]\n",
        "}\n",
        "\n",
        "df = pd.DataFrame(data)\n",
        "print(df)\n",
        "\n",
        "# Basic Operation on DataFrame:\n",
        "\n",
        "# Viewing the Data\n",
        "\n",
        "# Display the first 5 rows of the DataFrame\n",
        "print(\"\\nFirst 5 rows of the DataFrame:\")\n",
        "print(df.head())\n",
        "# Display the first 2 rows of the DataFrame\n",
        "print(\"\\nFirst 2 rows of the DataFrame:\")\n",
        "print(df.head(2))\n",
        "\n",
        "# Display the last 3 rows of the DataFrame\n",
        "print(\"\\nLast 3 rows of the DataFrame:\")\n",
        "print(df.tail(3))\n",
        "\n",
        "# Shape of the DataFrame\n",
        "print(\"\\nShape of the DataFrame:\", df.shape)\n",
        "\n",
        "# Information about the DataFrame\n",
        "print(\"\\nInformation about the DataFrame:\")\n",
        "print(df.info())\n",
        "\n",
        "# Display the columns of the DataFrame\n",
        "print(\"\\nColumns of the DataFrame:\")\n",
        "print(df.columns)\n",
        "\n",
        "# Get the summary or statistics of the Data frame\n",
        "print(\"\\nSummary of the DataFrame:\")\n",
        "print(df.describe())\n",
        "\n",
        "# **************************************** #\n",
        "\n",
        "# Selecting Columns\n",
        "\n",
        "print(df['Product'])\n",
        "print(df[['Product', 'Price']])\n",
        "\n",
        "# Selecting Rows\n",
        "\n",
        "print(df.iloc[0])   # Selecting the first row\n",
        "print(df.loc[0])    # Selecting the first row\n",
        "\n",
        "# Selecting Multiple Rows\n",
        "print(df.iloc[0:2]) # Selecting the first two rows\n",
        "\n",
        "# Selecting Rows based on Condition\n",
        "print(df[df['Price'] > 100])\n",
        "\n",
        "# **************************************** #\n",
        "\n",
        "# Adding or Removing the Data to/from DataFrame\n",
        "\n",
        "# Adding a new column to the DataFrame\n",
        "# df['Total_Sales'] = df['Price'] * df['Units Sold']\n",
        "# print(df)\n",
        "\n",
        "# Removing a column from the DataFrame\n",
        "# df.drop('Total_Sales', axis=1, inplace=True)\n",
        "# print(df)\n",
        "\n",
        "# Adding a new row to the DataFrame\n",
        "new_row = {'Product': 'Product E', 'Price': 250, 'Units Sold': 120}\n",
        "another_row = {'Product': 'Product F', 'Price': 180, 'Units Sold': 90}\n",
        "df = df._append(new_row, ignore_index=True)\n",
        "df = df._append(another_row, ignore_index=True)\n",
        "print(df)\n",
        "\n",
        "# Adding a new column again..\n",
        "df['Total_Sales'] = df['Price'] * df['Units Sold']\n",
        "print(df)\n",
        "\n",
        "# **************************************** #\n",
        "\n",
        "# Filter Products with Total Sales above 10000\n",
        "high_price_products = df[df['Total_Sales'] > 10000]\n",
        "print(\"\\nProducts with Total Sales above 10000:\\n\", high_price_products)\n",
        "\n",
        "# Filter Products Priced Below Average Price\n",
        "below_avg_price = df[df['Price'] < df['Price'].mean()]\n",
        "print(\"\\nProducts Priced Below Average Price:\\n\", below_avg_price)\n",
        "\n",
        "# **************************************** #\n",
        "\n",
        "# Grouping Data\n",
        "\n",
        "# Adding a Category Column to Data Frame\n",
        "\n",
        "df['Category'] = ['Electronics', 'Clothing', 'Electronics', 'Grocery', 'Electronics', 'Clothing']\n",
        "print(df)\n",
        "\n",
        "# Grouping Data by Category and Calculating the total sales for each category\n",
        "grouped_data = df.groupby('Category')['Total_Sales'].sum()\n",
        "print(\"\\nGrouped Data by Category:\")\n",
        "print(grouped_data)"
      ],
      "metadata": {
        "id": "NKdMqfZXV9_4",
        "colab": {
          "base_uri": "https://localhost:8080/"
        },
        "outputId": "8bcf956b-071b-472c-bd6a-52119aa7f3d8"
      },
      "execution_count": null,
      "outputs": [
        {
          "output_type": "stream",
          "name": "stdout",
          "text": [
            "     Product  Price  Units Sold\n",
            "0  Product A    150         100\n",
            "1  Product B    200         150\n",
            "2  Product C     90          50\n",
            "3  Product D    120          70\n",
            "\n",
            "First 5 rows of the DataFrame:\n",
            "     Product  Price  Units Sold\n",
            "0  Product A    150         100\n",
            "1  Product B    200         150\n",
            "2  Product C     90          50\n",
            "3  Product D    120          70\n",
            "\n",
            "First 2 rows of the DataFrame:\n",
            "     Product  Price  Units Sold\n",
            "0  Product A    150         100\n",
            "1  Product B    200         150\n",
            "\n",
            "Last 3 rows of the DataFrame:\n",
            "     Product  Price  Units Sold\n",
            "1  Product B    200         150\n",
            "2  Product C     90          50\n",
            "3  Product D    120          70\n",
            "\n",
            "Shape of the DataFrame: (4, 3)\n",
            "\n",
            "Information about the DataFrame:\n",
            "<class 'pandas.core.frame.DataFrame'>\n",
            "RangeIndex: 4 entries, 0 to 3\n",
            "Data columns (total 3 columns):\n",
            " #   Column      Non-Null Count  Dtype \n",
            "---  ------      --------------  ----- \n",
            " 0   Product     4 non-null      object\n",
            " 1   Price       4 non-null      int64 \n",
            " 2   Units Sold  4 non-null      int64 \n",
            "dtypes: int64(2), object(1)\n",
            "memory usage: 224.0+ bytes\n",
            "None\n",
            "\n",
            "Columns of the DataFrame:\n",
            "Index(['Product', 'Price', 'Units Sold'], dtype='object')\n",
            "\n",
            "Summary of the DataFrame:\n",
            "            Price  Units Sold\n",
            "count    4.000000    4.000000\n",
            "mean   140.000000   92.500000\n",
            "std     46.904158   43.493295\n",
            "min     90.000000   50.000000\n",
            "25%    112.500000   65.000000\n",
            "50%    135.000000   85.000000\n",
            "75%    162.500000  112.500000\n",
            "max    200.000000  150.000000\n",
            "0    Product A\n",
            "1    Product B\n",
            "2    Product C\n",
            "3    Product D\n",
            "Name: Product, dtype: object\n",
            "     Product  Price\n",
            "0  Product A    150\n",
            "1  Product B    200\n",
            "2  Product C     90\n",
            "3  Product D    120\n",
            "Product       Product A\n",
            "Price               150\n",
            "Units Sold          100\n",
            "Name: 0, dtype: object\n",
            "Product       Product A\n",
            "Price               150\n",
            "Units Sold          100\n",
            "Name: 0, dtype: object\n",
            "     Product  Price  Units Sold\n",
            "0  Product A    150         100\n",
            "1  Product B    200         150\n",
            "     Product  Price  Units Sold\n",
            "0  Product A    150         100\n",
            "1  Product B    200         150\n",
            "3  Product D    120          70\n",
            "     Product  Price  Units Sold\n",
            "0  Product A    150         100\n",
            "1  Product B    200         150\n",
            "2  Product C     90          50\n",
            "3  Product D    120          70\n",
            "4  Product E    250         120\n",
            "5  Product F    180          90\n",
            "     Product  Price  Units Sold  Total_Sales\n",
            "0  Product A    150         100        15000\n",
            "1  Product B    200         150        30000\n",
            "2  Product C     90          50         4500\n",
            "3  Product D    120          70         8400\n",
            "4  Product E    250         120        30000\n",
            "5  Product F    180          90        16200\n",
            "\n",
            "Products with Total Sales above 10000:\n",
            "      Product  Price  Units Sold  Total_Sales\n",
            "0  Product A    150         100        15000\n",
            "1  Product B    200         150        30000\n",
            "4  Product E    250         120        30000\n",
            "5  Product F    180          90        16200\n",
            "\n",
            "Products Priced Below Average Price:\n",
            "      Product  Price  Units Sold  Total_Sales\n",
            "0  Product A    150         100        15000\n",
            "2  Product C     90          50         4500\n",
            "3  Product D    120          70         8400\n",
            "     Product  Price  Units Sold  Total_Sales     Category\n",
            "0  Product A    150         100        15000  Electronics\n",
            "1  Product B    200         150        30000     Clothing\n",
            "2  Product C     90          50         4500  Electronics\n",
            "3  Product D    120          70         8400      Grocery\n",
            "4  Product E    250         120        30000  Electronics\n",
            "5  Product F    180          90        16200     Clothing\n",
            "\n",
            "Grouped Data by Category:\n",
            "Category\n",
            "Clothing       46200\n",
            "Electronics    49500\n",
            "Grocery         8400\n",
            "Name: Total_Sales, dtype: int64\n"
          ]
        }
      ]
    },
    {
      "cell_type": "code",
      "source": [
        "import pandas as pd\n",
        "\n",
        "# Creating the dataset with updated quantities\n",
        "data = {\n",
        "    'Customer ID': [101, 102, 103, 104, 105],\n",
        "    'Customer Name': ['Tom', 'Jerry', 'Mickey', 'Minnie', 'Donald'],\n",
        "    'Product': ['Laptop', 'Smartphone', 'Tablet', 'Laptop', 'Smartphone'],\n",
        "    'Price': [1200, 800, 400, 1200, 800],\n",
        "    'Quantity': [1, 2, 2, 1, 3],\n",
        "    'Purchase Date': pd.to_datetime(['2021-06-01', '2021-01-02', '2021-01-03', '2021-01-04', '2021-01-05'])\n",
        "}\n",
        "\n",
        "# Creating the DataFrame\n",
        "df = pd.DataFrame(data)\n",
        "\n",
        "# Printing the DataFrame and its shape\n",
        "print(df)\n",
        "print(df.shape)\n",
        "\n",
        "# 1. Total Revenue\n",
        "df['Total Price'] = df['Price'] * df['Quantity']\n",
        "total_revenue = df['Total Price'].sum()\n",
        "print(f\"Total Revenue: {total_revenue}\")\n",
        "\n",
        "# 2. Customer with the Highest Purchase\n",
        "highest_purchase_customer = df.loc[df['Total Price'].idxmax(), 'Customer Name']\n",
        "print(f\"Customer with the Highest Purchase: {highest_purchase_customer}\")\n",
        "\n",
        "# 3. Most Purchased Product\n",
        "most_purchased_product = df['Product'].mode()[0]\n",
        "print(f\"Most Purchased Product: {most_purchased_product}\")\n",
        "\n",
        "# 4. Purchases in January per Customer\n",
        "january_purchases = df[df['Purchase Date'].dt.month == 1]\n",
        "print(\"January Purchases Per Customer:\")\n",
        "print(january_purchases[['Customer Name', 'Total Price']])\n"
      ],
      "metadata": {
        "colab": {
          "base_uri": "https://localhost:8080/"
        },
        "id": "evh51EHTtQ8k",
        "outputId": "92483c04-33fa-441f-bec2-cd4f77a2ce88"
      },
      "execution_count": null,
      "outputs": [
        {
          "output_type": "stream",
          "name": "stdout",
          "text": [
            "   Customer ID Customer Name     Product  Price  Quantity Purchase Date\n",
            "0          101           Tom      Laptop   1200         1    2021-06-01\n",
            "1          102         Jerry  Smartphone    800         2    2021-01-02\n",
            "2          103        Mickey      Tablet    400         2    2021-01-03\n",
            "3          104        Minnie      Laptop   1200         1    2021-01-04\n",
            "4          105        Donald  Smartphone    800         3    2021-01-05\n",
            "(5, 6)\n",
            "Total Revenue: 7200\n",
            "Customer with the Highest Purchase: Donald\n",
            "Most Purchased Product: Laptop\n",
            "January Purchases Per Customer:\n",
            "  Customer Name  Total Price\n",
            "1         Jerry         1600\n",
            "2        Mickey          800\n",
            "3        Minnie         1200\n",
            "4        Donald         2400\n"
          ]
        }
      ]
    },
    {
      "cell_type": "markdown",
      "source": [
        "# Linear Algebra Functions\n",
        "\n",
        "Matrix Multiplication: Using np.dot() or @ to perform matrix multiplication.\n",
        "\n",
        "Eigenvalues and Eigenvectors: Solving eigenvalue problems with np.linalg.eig().\n",
        "\n",
        "Determinants: Calculate the determinant of a matrix using np.linalg.det().\n",
        "\n",
        "Solving Linear Systems: Solve systems of linear equations with np.linalg.solve()."
      ],
      "metadata": {
        "id": "-VyW4vXZvX7l"
      }
    },
    {
      "cell_type": "code",
      "source": [
        "import numpy as np\n",
        "\n",
        "# Example matrix multiplication\n",
        "A = np.array([[1, 2], [3, 4]])\n",
        "B = np.array([[5, 6], [7, 8]])\n",
        "\n",
        "# Matrix multiplication using np.dot or @ operator\n",
        "result_dot = np.dot(A, B)\n",
        "result_at = A @ B\n",
        "print(\"Matrix multiplication using np.dot:\\n\", result_dot)\n",
        "print(\"Matrix multiplication using @ operator:\\n\", result_at)\n",
        "\n",
        "# Eigenvalues and eigenvectors\n",
        "eigenvalues, eigenvectors = np.linalg.eig(A)\n",
        "print(\"Eigenvalues of A:\", eigenvalues)\n",
        "print(\"Eigenvectors of A:\\n\", eigenvectors)\n",
        "\n",
        "# Determinant of matrix A\n",
        "det_A = np.linalg.det(A)\n",
        "print(\"Determinant of A:\", det_A)\n",
        "\n",
        "# Solving linear equations\n",
        "# Example: Ax = b, where A is a matrix and b is a vector\n",
        "b = np.array([1, 2])\n",
        "x = np.linalg.solve(A, b)\n",
        "print(\"Solution to the linear system Ax = b:\", x)\n"
      ],
      "metadata": {
        "colab": {
          "base_uri": "https://localhost:8080/"
        },
        "id": "C2b1DSFEQFkb",
        "outputId": "b608cffa-8ffb-4f96-c824-70635e4ad903"
      },
      "execution_count": null,
      "outputs": [
        {
          "output_type": "stream",
          "name": "stdout",
          "text": [
            "Matrix multiplication using np.dot:\n",
            " [[19 22]\n",
            " [43 50]]\n",
            "Matrix multiplication using @ operator:\n",
            " [[19 22]\n",
            " [43 50]]\n",
            "Eigenvalues of A: [-0.37228132  5.37228132]\n",
            "Eigenvectors of A:\n",
            " [[-0.82456484 -0.41597356]\n",
            " [ 0.56576746 -0.90937671]]\n",
            "Determinant of A: -2.0000000000000004\n",
            "Solution to the linear system Ax = b: [0.  0.5]\n"
          ]
        }
      ]
    },
    {
      "cell_type": "markdown",
      "source": [
        "# Final Case Study: NumPy for Data Analysis\n",
        "Now, let's apply everything you've learned to solve a case study using NumPy for data analysis.\n",
        "\n",
        "Case Study: Analyzing a Toy Sales Dataset\n",
        "Problem: You are given a dataset of monthly toy sales for different regions. You need to:\n",
        "\n",
        "Compute the total sales for each month.\n",
        "Find the region with the highest sales in any given month.\n",
        "Calculate the average monthly sales for each region."
      ],
      "metadata": {
        "id": "E2N5cHrZQeJM"
      }
    },
    {
      "cell_type": "code",
      "source": [
        "import numpy as np\n",
        "\n",
        "# Toy sales data (rows: regions, columns: months)\n",
        "sales_data = np.array([\n",
        "    [200, 220, 250, 300, 310],  # Region 1\n",
        "    [180, 210, 230, 280, 300],  # Region 2\n",
        "    [150, 190, 220, 270, 290],  # Region 3\n",
        "])\n",
        "\n",
        "months = [\"Jan\", \"Feb\", \"Mar\", \"Apr\", \"May\"]\n",
        "regions = [\"Region 1\", \"Region 2\", \"Region 3\"]\n"
      ],
      "metadata": {
        "id": "0K-zhVKtUDHF"
      },
      "execution_count": null,
      "outputs": []
    },
    {
      "cell_type": "code",
      "source": [
        "# total sales of each month\n",
        "# Calculate total sales for January (first column)\n",
        "total_sales_january = np.sum(sales_data[:, 0])\n",
        "print(\"Jan total sales:\",total_sales_january)\n",
        "\n",
        "total_sales_feb = np.sum(sales_data[:, 1])\n",
        "print(\"feb total sales:\",total_sales_feb)"
      ],
      "metadata": {
        "colab": {
          "base_uri": "https://localhost:8080/"
        },
        "id": "oIShjtGhUS64",
        "outputId": "c46d8154-3f5b-47ed-c8f7-4b15e013bdd1"
      },
      "execution_count": null,
      "outputs": [
        {
          "output_type": "stream",
          "name": "stdout",
          "text": [
            "Jan total sales: 530\n",
            "feb total sales: 620\n"
          ]
        }
      ]
    },
    {
      "cell_type": "code",
      "source": [],
      "metadata": {
        "id": "6AFe3ZqyWlrL"
      },
      "execution_count": null,
      "outputs": []
    },
    {
      "cell_type": "code",
      "source": [
        "region1 = np.sum(sales_data[0,:])\n",
        "print(\"region 1 : \",region1)\n",
        "\n",
        "region2 = np.sum(sales_data[1,:])\n",
        "print(\"region 2: \",region2)\n",
        "\n",
        "region3 = np.sum(sales_data[2,:])\n",
        "print(\"region 3 : \",region3)\n",
        "\n",
        "highest_sales_by_region = np.max([region1,region2,region3])\n",
        "print(f\"highest sales {highest_sales_by_region}\")"
      ],
      "metadata": {
        "colab": {
          "base_uri": "https://localhost:8080/"
        },
        "id": "paGikEs_VDLh",
        "outputId": "61d7db01-3a21-4ae7-d6b1-9db751fb3851"
      },
      "execution_count": null,
      "outputs": [
        {
          "output_type": "stream",
          "name": "stdout",
          "text": [
            "region 1 :  1280\n",
            "region 2:  1200\n",
            "region 3 :  1120\n",
            "highest sales 1280\n"
          ]
        }
      ]
    },
    {
      "cell_type": "code",
      "source": [
        "# Compute total sales for each month\n",
        "total_sales_per_month = np.sum(sales_data, axis=0)\n",
        "\n",
        "# Display the total sales for each month\n",
        "for month, total in zip(months, total_sales_per_month):\n",
        "    print(f\"Total sales in {month}: {total}\")\n"
      ],
      "metadata": {
        "colab": {
          "base_uri": "https://localhost:8080/"
        },
        "id": "i5bORJtUWvl1",
        "outputId": "666ab879-bc7b-4c9b-a47e-e91efca9fb43"
      },
      "execution_count": null,
      "outputs": [
        {
          "output_type": "stream",
          "name": "stdout",
          "text": [
            "Total sales in Jan: 530\n",
            "Total sales in Feb: 620\n",
            "Total sales in Mar: 700\n",
            "Total sales in Apr: 850\n",
            "Total sales in May: 900\n"
          ]
        }
      ]
    },
    {
      "cell_type": "code",
      "source": [
        "highest_sales_by_region = np.sum(sales_data, axis = 1)\n",
        "for region,total in zip(regions, highest_sales_by_region):\n",
        "  print(f\"{region}:{total}\")\n"
      ],
      "metadata": {
        "colab": {
          "base_uri": "https://localhost:8080/"
        },
        "id": "mgn9MiYaY-lK",
        "outputId": "ac5c7471-a631-4ff4-fbe4-018671971e60"
      },
      "execution_count": null,
      "outputs": [
        {
          "output_type": "stream",
          "name": "stdout",
          "text": [
            "Region 1:1280\n",
            "Region 2:1200\n",
            "Region 3:1120\n"
          ]
        }
      ]
    },
    {
      "cell_type": "code",
      "source": [
        "highest_sales_by_region = np.mean(sales_data, axis = 1)\n",
        "for region,total in zip(regions, highest_sales_by_region):\n",
        "  print(f\"{region}:{total}\")"
      ],
      "metadata": {
        "colab": {
          "base_uri": "https://localhost:8080/"
        },
        "id": "OxOE4gEKaI8E",
        "outputId": "04c81382-941b-4a25-a09c-63b396d50160"
      },
      "execution_count": null,
      "outputs": [
        {
          "output_type": "stream",
          "name": "stdout",
          "text": [
            "Region 1:256.0\n",
            "Region 2:240.0\n",
            "Region 3:224.0\n"
          ]
        }
      ]
    },
    {
      "cell_type": "code",
      "source": [
        "# Compute average monthly sales for each region\n",
        "average_sales_per_region = np.mean(sales_data, axis=1)\n",
        "\n",
        "# Display the average monthly sales for each region\n",
        "for region, average in zip(regions, average_sales_per_region):\n",
        "    print(f\"Average monthly sales for {region}: {average:.2f}\")\n"
      ],
      "metadata": {
        "colab": {
          "base_uri": "https://localhost:8080/"
        },
        "id": "PIQPcDAfbpeC",
        "outputId": "8a31abf8-f675-4a82-b597-a345db8e9f3f"
      },
      "execution_count": null,
      "outputs": [
        {
          "output_type": "stream",
          "name": "stdout",
          "text": [
            "Average monthly sales for Region 1: 256.00\n",
            "Average monthly sales for Region 2: 240.00\n",
            "Average monthly sales for Region 3: 224.00\n"
          ]
        }
      ]
    },
    {
      "cell_type": "code",
      "source": [
        "# Find the region with the highest sales for each month\n",
        "highest_sales_indices = np.argmax(sales_data, axis=0)\n",
        "\n",
        "# Display the region with the highest sales for each month\n",
        "for month, index in zip(months, highest_sales_indices):\n",
        "    print(f\"Highest sales in {month}: {regions[index]} with {sales_data[index][months.index(month)]} sales\")\n"
      ],
      "metadata": {
        "colab": {
          "base_uri": "https://localhost:8080/"
        },
        "id": "oTWO8XshcIq_",
        "outputId": "257f6fa6-34a9-4e7c-804c-79cfb4b75e62"
      },
      "execution_count": null,
      "outputs": [
        {
          "output_type": "stream",
          "name": "stdout",
          "text": [
            "Highest sales in Jan: Region 1 with 200 sales\n",
            "Highest sales in Feb: Region 1 with 220 sales\n",
            "Highest sales in Mar: Region 1 with 250 sales\n",
            "Highest sales in Apr: Region 1 with 300 sales\n",
            "Highest sales in May: Region 1 with 310 sales\n"
          ]
        }
      ]
    },
    {
      "cell_type": "code",
      "source": [
        "# this why np array is usefull for numerical computation than python list\n",
        "\n",
        "\"\"\"ERROR OCCUR\"\"\"\n",
        "\n",
        "a = [40,50,44]\n",
        "b= [0.2,3.4,5.5]\n",
        "result = (a * b).sum()"
      ],
      "metadata": {
        "id": "jiNvsGjicYb3",
        "colab": {
          "base_uri": "https://localhost:8080/",
          "height": 176
        },
        "outputId": "b8709768-d133-4dd9-c4b4-d8453836d643"
      },
      "execution_count": null,
      "outputs": [
        {
          "output_type": "error",
          "ename": "TypeError",
          "evalue": "can't multiply sequence by non-int of type 'list'",
          "traceback": [
            "\u001b[0;31m---------------------------------------------------------------------------\u001b[0m",
            "\u001b[0;31mTypeError\u001b[0m                                 Traceback (most recent call last)",
            "\u001b[0;32m<ipython-input-42-764af479dd5a>\u001b[0m in \u001b[0;36m<cell line: 7>\u001b[0;34m()\u001b[0m\n\u001b[1;32m      5\u001b[0m \u001b[0ma\u001b[0m \u001b[0;34m=\u001b[0m \u001b[0;34m[\u001b[0m\u001b[0;36m40\u001b[0m\u001b[0;34m,\u001b[0m\u001b[0;36m50\u001b[0m\u001b[0;34m,\u001b[0m\u001b[0;36m44\u001b[0m\u001b[0;34m]\u001b[0m\u001b[0;34m\u001b[0m\u001b[0;34m\u001b[0m\u001b[0m\n\u001b[1;32m      6\u001b[0m \u001b[0mb\u001b[0m\u001b[0;34m=\u001b[0m \u001b[0;34m[\u001b[0m\u001b[0;36m0.2\u001b[0m\u001b[0;34m,\u001b[0m\u001b[0;36m3.4\u001b[0m\u001b[0;34m,\u001b[0m\u001b[0;36m5.5\u001b[0m\u001b[0;34m]\u001b[0m\u001b[0;34m\u001b[0m\u001b[0;34m\u001b[0m\u001b[0m\n\u001b[0;32m----> 7\u001b[0;31m \u001b[0mresult\u001b[0m \u001b[0;34m=\u001b[0m \u001b[0;34m(\u001b[0m\u001b[0ma\u001b[0m \u001b[0;34m*\u001b[0m \u001b[0mb\u001b[0m\u001b[0;34m)\u001b[0m\u001b[0;34m.\u001b[0m\u001b[0msum\u001b[0m\u001b[0;34m(\u001b[0m\u001b[0;34m)\u001b[0m\u001b[0;34m\u001b[0m\u001b[0;34m\u001b[0m\u001b[0m\n\u001b[0m",
            "\u001b[0;31mTypeError\u001b[0m: can't multiply sequence by non-int of type 'list'"
          ]
        }
      ]
    },
    {
      "cell_type": "code",
      "source": [
        "a = np.array([40,50,44])\n",
        "b= np.array([0.2,3.4,5.5])\n",
        "result = (a * b).sum()\n",
        "s = a @ b\n",
        "print(s)\n",
        "\n",
        "print(result)"
      ],
      "metadata": {
        "id": "1WqsvtRWyRLO"
      },
      "execution_count": null,
      "outputs": []
    },
    {
      "cell_type": "code",
      "source": [
        "#3 d array\n",
        "arr3 = np. array([[[1,2,3,],[2,3,4]],[[2,3,4],[4,5,6]]])\n",
        "arr3.shape\n"
      ],
      "metadata": {
        "id": "ZvutyQjHy3pK"
      },
      "execution_count": null,
      "outputs": []
    },
    {
      "cell_type": "code",
      "source": [
        "arr1 = np.array([1,2,3])\n",
        "arr2 = np.array([[1,2,3],[4,5,6]])\n",
        "# broadcasting\n",
        "\n",
        "r = arr1 + arr2\n",
        "\n",
        "print(r)"
      ],
      "metadata": {
        "id": "C1njRuyn42JK",
        "colab": {
          "base_uri": "https://localhost:8080/"
        },
        "outputId": "fcce5f90-29b2-41a1-9397-284c8a1be335"
      },
      "execution_count": null,
      "outputs": [
        {
          "output_type": "stream",
          "name": "stdout",
          "text": [
            "[[2 4 6]\n",
            " [5 7 9]]\n"
          ]
        }
      ]
    },
    {
      "cell_type": "code",
      "source": [
        "a1 = np.array([[1],[2],[3]])\n",
        "s = a1 + arr1\n",
        "#another type of broadcasting\n",
        "print(s)"
      ],
      "metadata": {
        "colab": {
          "base_uri": "https://localhost:8080/"
        },
        "id": "GQDJEJ96OHED",
        "outputId": "dc74b071-e4be-4270-af67-4297aea71470"
      },
      "execution_count": null,
      "outputs": [
        {
          "output_type": "stream",
          "name": "stdout",
          "text": [
            "[[2 3 4]\n",
            " [3 4 5]\n",
            " [4 5 6]]\n"
          ]
        }
      ]
    },
    {
      "cell_type": "code",
      "source": [
        "(arr1 != arr2).sum()\n"
      ],
      "metadata": {
        "colab": {
          "base_uri": "https://localhost:8080/"
        },
        "id": "UtkItbXyOipV",
        "outputId": "2373ac24-6754-4d99-bbd4-584a59e3b206"
      },
      "execution_count": null,
      "outputs": [
        {
          "output_type": "execute_result",
          "data": {
            "text/plain": [
              "3"
            ]
          },
          "metadata": {},
          "execution_count": 55
        }
      ]
    },
    {
      "cell_type": "code",
      "source": [
        "mul = np.array([[[1,2,3,4],[1,2,3,4]],[[5,6,7,8],[7,5,4,3]]])"
      ],
      "metadata": {
        "id": "qOowczpePEsz"
      },
      "execution_count": null,
      "outputs": []
    },
    {
      "cell_type": "code",
      "source": [
        "print(mul)\n",
        "mul.shape\n",
        "mul.ndim"
      ],
      "metadata": {
        "colab": {
          "base_uri": "https://localhost:8080/"
        },
        "id": "MmAGvue0QzJJ",
        "outputId": "5141c13f-b63e-4774-fab4-38bce4a3ad6c"
      },
      "execution_count": null,
      "outputs": [
        {
          "output_type": "stream",
          "name": "stdout",
          "text": [
            "[[[1 2 3 4]\n",
            "  [1 2 3 4]]\n",
            "\n",
            " [[5 6 7 8]\n",
            "  [7 5 4 3]]]\n"
          ]
        },
        {
          "output_type": "execute_result",
          "data": {
            "text/plain": [
              "3"
            ]
          },
          "metadata": {},
          "execution_count": 65
        }
      ]
    },
    {
      "cell_type": "code",
      "source": [
        " mul[:,1]\n"
      ],
      "metadata": {
        "colab": {
          "base_uri": "https://localhost:8080/"
        },
        "id": "6jpEF_yVQ1Xp",
        "outputId": "40ddce98-58fe-4bfb-80a9-34d2137ece7f"
      },
      "execution_count": null,
      "outputs": [
        {
          "output_type": "execute_result",
          "data": {
            "text/plain": [
              "array([[1, 2, 3, 4],\n",
              "       [7, 5, 4, 3]])"
            ]
          },
          "metadata": {},
          "execution_count": 64
        }
      ]
    },
    {
      "cell_type": "code",
      "source": [
        " np.zeros((3,2))"
      ],
      "metadata": {
        "colab": {
          "base_uri": "https://localhost:8080/"
        },
        "id": "SS7g7jw2SThk",
        "outputId": "4aa54fd7-f63c-47b7-cfc1-d7444229fcbb"
      },
      "execution_count": null,
      "outputs": [
        {
          "output_type": "execute_result",
          "data": {
            "text/plain": [
              "array([[0., 0.],\n",
              "       [0., 0.],\n",
              "       [0., 0.]])"
            ]
          },
          "metadata": {},
          "execution_count": 66
        }
      ]
    },
    {
      "cell_type": "code",
      "source": [
        "np.ones((3,3))"
      ],
      "metadata": {
        "colab": {
          "base_uri": "https://localhost:8080/"
        },
        "id": "Ca4r8z9cVAj6",
        "outputId": "312aa34c-caba-4391-c95f-9c9725e3e77b"
      },
      "execution_count": null,
      "outputs": [
        {
          "output_type": "execute_result",
          "data": {
            "text/plain": [
              "array([[1., 1., 1.],\n",
              "       [1., 1., 1.],\n",
              "       [1., 1., 1.]])"
            ]
          },
          "metadata": {},
          "execution_count": 67
        }
      ]
    },
    {
      "cell_type": "code",
      "source": [
        "np.random.rand(3)"
      ],
      "metadata": {
        "colab": {
          "base_uri": "https://localhost:8080/"
        },
        "id": "fidaxyHRVEQc",
        "outputId": "c6041f35-7524-421a-a8fd-0c4e9ba3db8b"
      },
      "execution_count": null,
      "outputs": [
        {
          "output_type": "execute_result",
          "data": {
            "text/plain": [
              "array([0.87307063, 0.00210338, 0.34935787])"
            ]
          },
          "metadata": {},
          "execution_count": 70
        }
      ]
    },
    {
      "cell_type": "code",
      "source": [
        "np.full((3,3),42)"
      ],
      "metadata": {
        "colab": {
          "base_uri": "https://localhost:8080/"
        },
        "id": "pBk5QC9_VK-M",
        "outputId": "1552bc29-c6ff-440a-d4bd-c7f394f11f0d"
      },
      "execution_count": null,
      "outputs": [
        {
          "output_type": "execute_result",
          "data": {
            "text/plain": [
              "array([[42, 42, 42],\n",
              "       [42, 42, 42],\n",
              "       [42, 42, 42]])"
            ]
          },
          "metadata": {},
          "execution_count": 71
        }
      ]
    },
    {
      "cell_type": "code",
      "source": [
        "np.arange(0,100,5)"
      ],
      "metadata": {
        "colab": {
          "base_uri": "https://localhost:8080/"
        },
        "id": "WF0Bdt5qVieO",
        "outputId": "7391bce6-c84f-4346-b535-c5048d3aaae8"
      },
      "execution_count": null,
      "outputs": [
        {
          "output_type": "execute_result",
          "data": {
            "text/plain": [
              "array([ 0,  5, 10, 15, 20, 25, 30, 35, 40, 45, 50, 55, 60, 65, 70, 75, 80,\n",
              "       85, 90, 95])"
            ]
          },
          "metadata": {},
          "execution_count": 74
        }
      ]
    },
    {
      "cell_type": "code",
      "source": [
        "np.arange(0,100,5).reshape(20,1)"
      ],
      "metadata": {
        "colab": {
          "base_uri": "https://localhost:8080/"
        },
        "id": "N9vaSDK5VoWy",
        "outputId": "deeab2c2-f854-4278-8ad8-f1353653faf2"
      },
      "execution_count": null,
      "outputs": [
        {
          "output_type": "execute_result",
          "data": {
            "text/plain": [
              "array([[ 0],\n",
              "       [ 5],\n",
              "       [10],\n",
              "       [15],\n",
              "       [20],\n",
              "       [25],\n",
              "       [30],\n",
              "       [35],\n",
              "       [40],\n",
              "       [45],\n",
              "       [50],\n",
              "       [55],\n",
              "       [60],\n",
              "       [65],\n",
              "       [70],\n",
              "       [75],\n",
              "       [80],\n",
              "       [85],\n",
              "       [90],\n",
              "       [95]])"
            ]
          },
          "metadata": {},
          "execution_count": 78
        }
      ]
    },
    {
      "cell_type": "code",
      "source": [
        "np.linspace(3,27,30)"
      ],
      "metadata": {
        "colab": {
          "base_uri": "https://localhost:8080/"
        },
        "id": "vNk_XLYEV5oN",
        "outputId": "234c7abf-4f0f-478b-93c8-7df8cdb09d8a"
      },
      "execution_count": null,
      "outputs": [
        {
          "output_type": "execute_result",
          "data": {
            "text/plain": [
              "array([ 3.        ,  3.82758621,  4.65517241,  5.48275862,  6.31034483,\n",
              "        7.13793103,  7.96551724,  8.79310345,  9.62068966, 10.44827586,\n",
              "       11.27586207, 12.10344828, 12.93103448, 13.75862069, 14.5862069 ,\n",
              "       15.4137931 , 16.24137931, 17.06896552, 17.89655172, 18.72413793,\n",
              "       19.55172414, 20.37931034, 21.20689655, 22.03448276, 22.86206897,\n",
              "       23.68965517, 24.51724138, 25.34482759, 26.17241379, 27.        ])"
            ]
          },
          "metadata": {},
          "execution_count": 80
        }
      ]
    },
    {
      "cell_type": "code",
      "source": [
        " arr1 = np.array([1,\"a\",2])"
      ],
      "metadata": {
        "id": "CFrSWlT0WNCd"
      },
      "execution_count": null,
      "outputs": []
    },
    {
      "cell_type": "code",
      "source": [
        "print(np.array([[[\n",
        "    [[11, 12, 13],\n",
        "     [13, 14, 15]],\n",
        "    [[15, 16, 17],\n",
        "     [17, 18, 19.5]]]\n",
        "    ]]).ndim)"
      ],
      "metadata": {
        "colab": {
          "base_uri": "https://localhost:8080/"
        },
        "id": "epePtvNba9Nj",
        "outputId": "681c8204-8b10-4ae1-fc7f-f93a50b44b26"
      },
      "execution_count": null,
      "outputs": [
        {
          "output_type": "stream",
          "name": "stdout",
          "text": [
            "5\n"
          ]
        }
      ]
    },
    {
      "cell_type": "code",
      "source": [
        "arr3 = np.array([\n",
        "    [[11, 12, 8, 19],\n",
        "     [13, 21, 4, 19]],\n",
        "\n",
        "    [[5, 1, 7, 21],\n",
        "     [13, 9, 6, 1]],\n",
        "\n",
        "    [[9, 32, 18, -5],\n",
        "     [15, 25, 11, -6]]])\n",
        "print(arr3[:2, 1].sum())"
      ],
      "metadata": {
        "colab": {
          "base_uri": "https://localhost:8080/"
        },
        "id": "D5vYC4NHcElD",
        "outputId": "0354567e-88fe-4e93-e9c7-3ef1ea56e575"
      },
      "execution_count": null,
      "outputs": [
        {
          "output_type": "stream",
          "name": "stdout",
          "text": [
            "86\n"
          ]
        }
      ]
    },
    {
      "cell_type": "code",
      "source": [
        "a = [[0, 1, 2, 3, 4],\n",
        "    [5, 6, 7, 8, 9]]\n",
        "b = [[1, 1, 1, 1, 1],\n",
        "    [1, 1, 1, 1, 1]]\n",
        "\n",
        "c = np.concatenate([a, b], axis=0)\n",
        "w = np.concatenate([a, b], axis=1)\n",
        "\n",
        "print(c)\n",
        "print(w)"
      ],
      "metadata": {
        "colab": {
          "base_uri": "https://localhost:8080/"
        },
        "id": "JVVGKR2Ucq0B",
        "outputId": "4e423d09-1a19-44ee-f02d-2a9a2762581d"
      },
      "execution_count": null,
      "outputs": [
        {
          "output_type": "stream",
          "name": "stdout",
          "text": [
            "[[0 1 2 3 4]\n",
            " [5 6 7 8 9]\n",
            " [1 1 1 1 1]\n",
            " [1 1 1 1 1]]\n",
            "[[0 1 2 3 4 1 1 1 1 1]\n",
            " [5 6 7 8 9 1 1 1 1 1]]\n"
          ]
        }
      ]
    },
    {
      "cell_type": "code",
      "source": [
        "h = np.hstack([a,b])\n",
        "print(h)\n"
      ],
      "metadata": {
        "colab": {
          "base_uri": "https://localhost:8080/"
        },
        "id": "ncmrPlmbdYI4",
        "outputId": "f607a270-7546-4366-f7bd-c6b92cdacae0"
      },
      "execution_count": null,
      "outputs": [
        {
          "output_type": "stream",
          "name": "stdout",
          "text": [
            "[[0 1 2 3 4 1 1 1 1 1]\n",
            " [5 6 7 8 9 1 1 1 1 1]]\n"
          ]
        }
      ]
    },
    {
      "cell_type": "code",
      "source": [
        "print(arr1,a1)"
      ],
      "metadata": {
        "colab": {
          "base_uri": "https://localhost:8080/"
        },
        "id": "n2b3WPV-dsr5",
        "outputId": "5fa87405-2799-4ca7-91a7-7cfdc98fd406"
      },
      "execution_count": null,
      "outputs": [
        {
          "output_type": "stream",
          "name": "stdout",
          "text": [
            "['1' 'a' '2'] [[1]\n",
            " [2]\n",
            " [3]]\n"
          ]
        }
      ]
    },
    {
      "cell_type": "code",
      "source": [
        "for i,x in zip(arr1,a1):\n",
        "  print(i)\n",
        "  print(x)"
      ],
      "metadata": {
        "colab": {
          "base_uri": "https://localhost:8080/"
        },
        "id": "ZNiU20_HeW-A",
        "outputId": "ec76ad8b-bf3e-48fb-a3d7-67c7c2d84711"
      },
      "execution_count": null,
      "outputs": [
        {
          "output_type": "stream",
          "name": "stdout",
          "text": [
            "1\n",
            "[1]\n",
            "a\n",
            "[2]\n",
            "2\n",
            "[3]\n"
          ]
        }
      ]
    },
    {
      "cell_type": "code",
      "source": [
        "from scipy import stats\n",
        "arr = [1, 2, 2,2, 3, 4, 4, 4, 5]\n",
        "mode_value = stats.mode(arr)\n",
        "print(mode_value)\n"
      ],
      "metadata": {
        "colab": {
          "base_uri": "https://localhost:8080/"
        },
        "id": "80ZjV_fxejT0",
        "outputId": "5e2387ff-6c45-408f-97b2-42d4b6328ac2"
      },
      "execution_count": null,
      "outputs": [
        {
          "output_type": "stream",
          "name": "stdout",
          "text": [
            "ModeResult(mode=2, count=3)\n"
          ]
        }
      ]
    },
    {
      "cell_type": "code",
      "source": [],
      "metadata": {
        "id": "N1Bmio8Dgzqh"
      },
      "execution_count": null,
      "outputs": []
    }
  ]
}