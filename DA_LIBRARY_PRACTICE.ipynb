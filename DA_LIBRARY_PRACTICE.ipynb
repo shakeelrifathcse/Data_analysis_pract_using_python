{
  "nbformat": 4,
  "nbformat_minor": 0,
  "metadata": {
    "colab": {
      "provenance": [],
      "authorship_tag": "ABX9TyNgRcXo0FkITj1msIf51XDA",
      "include_colab_link": true
    },
    "kernelspec": {
      "name": "python3",
      "display_name": "Python 3"
    },
    "language_info": {
      "name": "python"
    }
  },
  "cells": [
    {
      "cell_type": "markdown",
      "metadata": {
        "id": "view-in-github",
        "colab_type": "text"
      },
      "source": [
        "<a href=\"https://colab.research.google.com/github/shakeelrifathcse/Data_analysis_pract_using_python/blob/main/DA_LIBRARY_PRACTICE.ipynb\" target=\"_parent\"><img src=\"https://colab.research.google.com/assets/colab-badge.svg\" alt=\"Open In Colab\"/></a>"
      ]
    },
    {
      "cell_type": "markdown",
      "source": [
        "There are a coupie of important benefits of using Numpy arrays instead of Python lists for\n",
        "operating on numerical data:\n",
        "• Ease of use: You can write small, concise and intutive mathematical expressions like ( kal\n",
        "* weights) . sum( ) rather than using loops & custom functions like crop_yeild .\n",
        "\n",
        "• Performance: Numpy operations and functions are implemented internally in C++, which\n",
        "makes them much faster than using Python statements & loops which are interpreted at\n",
        "runtime"
      ],
      "metadata": {
        "id": "5RHCo_VlzsnN"
      }
    },
    {
      "cell_type": "code",
      "execution_count": 2,
      "metadata": {
        "id": "CG5_N8qvAYnC"
      },
      "outputs": [],
      "source": [
        "import numpy as np"
      ]
    },
    {
      "cell_type": "markdown",
      "source": [
        "A. Introduction to NumPy\n",
        "NumPy (Numerical Python) is a powerful library for numerical computing in Python. It provides support for large multi-dimensional arrays and matrices, and a collection of mathematical functions to operate on these arrays\n"
      ],
      "metadata": {
        "id": "KTvlR7mP2-4n"
      }
    },
    {
      "cell_type": "markdown",
      "source": [
        "Basics of NumPy Arrays"
      ],
      "metadata": {
        "id": "9_wNpD6t3Gk_"
      }
    },
    {
      "cell_type": "code",
      "source": [
        "arr = np.array([[1,2,3],[4,5,6],[8,9,80]])\n",
        "print(arr)"
      ],
      "metadata": {
        "colab": {
          "base_uri": "https://localhost:8080/"
        },
        "id": "i5AKzOUFAtwj",
        "outputId": "6865794a-9ba6-456c-a34a-ea3a7deefe2e"
      },
      "execution_count": 3,
      "outputs": [
        {
          "output_type": "stream",
          "name": "stdout",
          "text": [
            "[[ 1  2  3]\n",
            " [ 4  5  6]\n",
            " [ 8  9 80]]\n"
          ]
        }
      ]
    },
    {
      "cell_type": "code",
      "source": [
        "print(arr.shape)"
      ],
      "metadata": {
        "colab": {
          "base_uri": "https://localhost:8080/"
        },
        "id": "S4TD7GHzA5ZH",
        "outputId": "dd69da3a-7c7c-4044-eb07-a252fdbc0761"
      },
      "execution_count": 4,
      "outputs": [
        {
          "output_type": "stream",
          "name": "stdout",
          "text": [
            "(3, 3)\n"
          ]
        }
      ]
    },
    {
      "cell_type": "code",
      "source": [
        "print(arr.dtype)\n",
        "print(arr.ndim)"
      ],
      "metadata": {
        "colab": {
          "base_uri": "https://localhost:8080/"
        },
        "id": "Mg8CkPfvBFDC",
        "outputId": "7f15e06b-a811-43af-e915-29872b0ab51b"
      },
      "execution_count": 5,
      "outputs": [
        {
          "output_type": "stream",
          "name": "stdout",
          "text": [
            "int64\n",
            "2\n"
          ]
        }
      ]
    },
    {
      "cell_type": "markdown",
      "source": [
        "Array Indexing and Slicing"
      ],
      "metadata": {
        "id": "Lz5SeSlq3UN7"
      }
    },
    {
      "cell_type": "code",
      "source": [
        "a = np.array([1,2,3,4,5,6,7,8,9,10])\n",
        "print(a[0:4])\n",
        "print(a[-2:])\n",
        "print(a[2:8])\n"
      ],
      "metadata": {
        "colab": {
          "base_uri": "https://localhost:8080/"
        },
        "id": "WckL_4iUCF8T",
        "outputId": "8262bc52-f611-45c2-9bdf-d18e5f50fdcd"
      },
      "execution_count": 6,
      "outputs": [
        {
          "output_type": "stream",
          "name": "stdout",
          "text": [
            "[1 2 3 4]\n",
            "[ 9 10]\n",
            "[3 4 5 6 7 8]\n"
          ]
        }
      ]
    },
    {
      "cell_type": "markdown",
      "source": [
        "Array Operations"
      ],
      "metadata": {
        "id": "nx4jRQXz3Yab"
      }
    },
    {
      "cell_type": "code",
      "source": [
        "arr1 = np.array([1,2,3])\n",
        "arr2 = np.array([5,5,5])\n",
        "arr3 = arr1 + arr2\n",
        "print(arr3)\n",
        "print(arr1 ** 2)\n",
        "print(arr3 * 2)"
      ],
      "metadata": {
        "colab": {
          "base_uri": "https://localhost:8080/"
        },
        "id": "Vjrn67ZYFa5x",
        "outputId": "c28d628c-a128-43a5-ebb9-1bf5afc06358"
      },
      "execution_count": 7,
      "outputs": [
        {
          "output_type": "stream",
          "name": "stdout",
          "text": [
            "[6 7 8]\n",
            "[1 4 9]\n",
            "[12 14 16]\n"
          ]
        }
      ]
    },
    {
      "cell_type": "markdown",
      "source": [
        "Multi-Dimensional Arrays"
      ],
      "metadata": {
        "id": "h7ETpx1Y3bbf"
      }
    },
    {
      "cell_type": "code",
      "source": [
        "matrix = np.array([[1,2,3,4],[5,6,7,8]])\n",
        "print(matrix)"
      ],
      "metadata": {
        "colab": {
          "base_uri": "https://localhost:8080/"
        },
        "id": "W6ElCCk3G0_Z",
        "outputId": "3a4b5ac6-9e31-4c70-ec95-210f6e934495"
      },
      "execution_count": 8,
      "outputs": [
        {
          "output_type": "stream",
          "name": "stdout",
          "text": [
            "[[1 2 3 4]\n",
            " [5 6 7 8]]\n"
          ]
        }
      ]
    },
    {
      "cell_type": "code",
      "source": [
        "print(matrix[0,1])"
      ],
      "metadata": {
        "colab": {
          "base_uri": "https://localhost:8080/"
        },
        "id": "uCHu850kHX26",
        "outputId": "52f4fba7-5d6f-4202-da00-5891818acbbc"
      },
      "execution_count": 9,
      "outputs": [
        {
          "output_type": "stream",
          "name": "stdout",
          "text": [
            "2\n"
          ]
        }
      ]
    },
    {
      "cell_type": "code",
      "source": [
        "x = np.array([[1,2,3],[4,5,6],[7,8,9]])\n",
        "print(x)\n",
        "print()\n",
        "#...........................#\n",
        "print(x[1])\n"
      ],
      "metadata": {
        "colab": {
          "base_uri": "https://localhost:8080/"
        },
        "id": "khca07MyHkCZ",
        "outputId": "c5739eff-13df-4ff1-a89d-d5e31677230a"
      },
      "execution_count": 10,
      "outputs": [
        {
          "output_type": "stream",
          "name": "stdout",
          "text": [
            "[[1 2 3]\n",
            " [4 5 6]\n",
            " [7 8 9]]\n",
            "\n",
            "[4 5 6]\n"
          ]
        }
      ]
    },
    {
      "cell_type": "code",
      "source": [
        "print(x[0])"
      ],
      "metadata": {
        "colab": {
          "base_uri": "https://localhost:8080/"
        },
        "id": "niLTcxJwIxP4",
        "outputId": "ea7758ce-be50-49b6-d751-3258a84b0f92"
      },
      "execution_count": 11,
      "outputs": [
        {
          "output_type": "stream",
          "name": "stdout",
          "text": [
            "[1 2 3]\n"
          ]
        }
      ]
    },
    {
      "cell_type": "markdown",
      "source": [
        "Array Manipulation"
      ],
      "metadata": {
        "id": "PBA0BBCx3icK"
      }
    },
    {
      "cell_type": "code",
      "source": [
        "a =np.array([1,2,3,4,5,6])\n",
        "ra = a.reshape(3,2, order =\"c\")\n",
        "print(ra)"
      ],
      "metadata": {
        "colab": {
          "base_uri": "https://localhost:8080/"
        },
        "id": "4WLggvJeheH8",
        "outputId": "01b59b87-4e5c-4c98-eee4-1971a43da392"
      },
      "execution_count": 12,
      "outputs": [
        {
          "output_type": "stream",
          "name": "stdout",
          "text": [
            "[[1 2]\n",
            " [3 4]\n",
            " [5 6]]\n"
          ]
        }
      ]
    },
    {
      "cell_type": "code",
      "source": [
        "h = ra.flatten()\n",
        "print(h)"
      ],
      "metadata": {
        "colab": {
          "base_uri": "https://localhost:8080/"
        },
        "id": "rTEDqUlT0zdA",
        "outputId": "4018f035-d208-4ba5-faa9-acc8f251908f"
      },
      "execution_count": 13,
      "outputs": [
        {
          "output_type": "stream",
          "name": "stdout",
          "text": [
            "[1 2 3 4 5 6]\n"
          ]
        }
      ]
    },
    {
      "cell_type": "markdown",
      "source": [
        "Array Aggregation and descriptive analysis\n"
      ],
      "metadata": {
        "id": "EzL5EhoG3ksa"
      }
    },
    {
      "cell_type": "code",
      "source": [
        "arr = np.array(range(13))\n",
        "print(arr)\n",
        "print(np.sum(arr))\n",
        "print(np.mean(arr))\n",
        "print(np.median(arr))\n",
        "print(np.std(arr))\n",
        "print(np.max(arr))\n"
      ],
      "metadata": {
        "colab": {
          "base_uri": "https://localhost:8080/"
        },
        "id": "CDQx4v2N1O7V",
        "outputId": "398bd656-ebae-46d2-edb3-0129db90cdd3"
      },
      "execution_count": 14,
      "outputs": [
        {
          "output_type": "stream",
          "name": "stdout",
          "text": [
            "[ 0  1  2  3  4  5  6  7  8  9 10 11 12]\n",
            "78\n",
            "6.0\n",
            "6.0\n",
            "3.7416573867739413\n",
            "12\n"
          ]
        }
      ]
    },
    {
      "cell_type": "markdown",
      "source": [
        "Broadcasting"
      ],
      "metadata": {
        "id": "LKzQPMVz1q5E"
      }
    },
    {
      "cell_type": "code",
      "source": [
        "arr1 = np.array([1, 2, 3])\n",
        "arr2 = np.array([[1], [2], [3]])\n",
        "print(arr1 + arr2)\n"
      ],
      "metadata": {
        "colab": {
          "base_uri": "https://localhost:8080/"
        },
        "id": "gakyyp193xDH",
        "outputId": "60362487-8151-4879-ead5-5410278d5c46"
      },
      "execution_count": 15,
      "outputs": [
        {
          "output_type": "stream",
          "name": "stdout",
          "text": [
            "[[2 3 4]\n",
            " [3 4 5]\n",
            " [4 5 6]]\n"
          ]
        }
      ]
    },
    {
      "cell_type": "markdown",
      "source": [
        " Random Numbers"
      ],
      "metadata": {
        "id": "6VxheNYf33IV"
      }
    },
    {
      "cell_type": "code",
      "source": [
        "random_arr = np.random.randint(1,100, size = (100, 2))\n",
        "random_arr2 = np.random.rand(5,5)\n",
        "print(random_arr2)\n",
        "print(random_arr)"
      ],
      "metadata": {
        "colab": {
          "base_uri": "https://localhost:8080/"
        },
        "id": "A8V80BHp4NCI",
        "outputId": "9ace08c7-0026-48cb-aacc-4bdbff04e85a"
      },
      "execution_count": 16,
      "outputs": [
        {
          "output_type": "stream",
          "name": "stdout",
          "text": [
            "[[0.27930111 0.17864772 0.9555642  0.38660753 0.85816049]\n",
            " [0.85921004 0.87794858 0.08059663 0.1038324  0.93717055]\n",
            " [0.3371441  0.21708517 0.67693084 0.19225453 0.70832387]\n",
            " [0.42583842 0.92305716 0.9656335  0.90606014 0.21959259]\n",
            " [0.816507   0.1491276  0.44669096 0.03436581 0.41174821]]\n",
            "[[ 5 59]\n",
            " [ 4 21]\n",
            " [15 90]\n",
            " [71 77]\n",
            " [28 46]\n",
            " [76 55]\n",
            " [16 15]\n",
            " [79 60]\n",
            " [64  6]\n",
            " [98 30]\n",
            " [96  1]\n",
            " [ 4 40]\n",
            " [75 74]\n",
            " [59 78]\n",
            " [55 34]\n",
            " [80 84]\n",
            " [61 81]\n",
            " [33 31]\n",
            " [87 20]\n",
            " [33 17]\n",
            " [21 33]\n",
            " [10 17]\n",
            " [47  7]\n",
            " [45 64]\n",
            " [ 4 27]\n",
            " [99 67]\n",
            " [99 14]\n",
            " [79 21]\n",
            " [33 97]\n",
            " [61 72]\n",
            " [71 45]\n",
            " [ 2 10]\n",
            " [68 74]\n",
            " [88 73]\n",
            " [34 84]\n",
            " [40 76]\n",
            " [25 39]\n",
            " [96  9]\n",
            " [51 91]\n",
            " [82  9]\n",
            " [48 84]\n",
            " [76 24]\n",
            " [62 70]\n",
            " [60  7]\n",
            " [91 59]\n",
            " [28 45]\n",
            " [71 87]\n",
            " [89 25]\n",
            " [45 10]\n",
            " [98  1]\n",
            " [10 99]\n",
            " [21 63]\n",
            " [24 70]\n",
            " [87 46]\n",
            " [64 71]\n",
            " [49 10]\n",
            " [14 78]\n",
            " [38 56]\n",
            " [22 79]\n",
            " [46 86]\n",
            " [ 4 23]\n",
            " [60 57]\n",
            " [17 51]\n",
            " [13 47]\n",
            " [52 93]\n",
            " [ 3 60]\n",
            " [ 7  3]\n",
            " [47 25]\n",
            " [48 32]\n",
            " [42 19]\n",
            " [68 53]\n",
            " [51 37]\n",
            " [46  3]\n",
            " [68 90]\n",
            " [52 50]\n",
            " [65 23]\n",
            " [58 84]\n",
            " [50 86]\n",
            " [26 50]\n",
            " [60  9]\n",
            " [72 25]\n",
            " [34 68]\n",
            " [10 98]\n",
            " [65 34]\n",
            " [83 56]\n",
            " [63 37]\n",
            " [86 90]\n",
            " [ 4 66]\n",
            " [64 70]\n",
            " [27 38]\n",
            " [ 6 12]\n",
            " [69 86]\n",
            " [34 98]\n",
            " [56 56]\n",
            " [61  7]\n",
            " [60 93]\n",
            " [65 26]\n",
            " [60 93]\n",
            " [32  1]\n",
            " [ 8 35]]\n"
          ]
        }
      ]
    },
    {
      "cell_type": "markdown",
      "source": [
        "Saving and Loading"
      ],
      "metadata": {
        "id": "a-eoGwNS4QQ3"
      }
    },
    {
      "cell_type": "code",
      "source": [
        "np.save('my_array.npy', arr)  # Save array to file\n",
        "loaded_arr = np.load('my_array.npy')  # Load array from file\n",
        "print(loaded_arr)\n"
      ],
      "metadata": {
        "colab": {
          "base_uri": "https://localhost:8080/"
        },
        "id": "gte1hQ9l5OFB",
        "outputId": "b53679fa-722e-49f3-e797-13fe9c55bbb3"
      },
      "execution_count": 17,
      "outputs": [
        {
          "output_type": "stream",
          "name": "stdout",
          "text": [
            "[ 0  1  2  3  4  5  6  7  8  9 10 11 12]\n"
          ]
        }
      ]
    },
    {
      "cell_type": "markdown",
      "source": [
        "# numpy for data analysis"
      ],
      "metadata": {
        "id": "X0VBsdbu5Slp"
      }
    },
    {
      "cell_type": "code",
      "source": [
        "import numpy as np\n",
        "\n",
        "# Creating a 1D array\n",
        "arr1d = np.array([1, 2, 3, 4, 5])\n",
        "\n",
        "# Creating a 2D array (matrix)\n",
        "arr2d = np.array([[1, 2, 3], [4, 5, 6]])\n",
        "\n",
        "# Array of zeros and ones\n",
        "zeros = np.zeros((3, 3))\n",
        "ones = np.ones((2, 2))\n",
        "print(arr1d)\n",
        "print(arr2d)\n",
        "print(zeros)\n",
        "print(h)\n"
      ],
      "metadata": {
        "id": "HZq6XdpR5aoN",
        "colab": {
          "base_uri": "https://localhost:8080/"
        },
        "outputId": "a3a80d2a-cd36-48df-fa37-c00e9834b98a"
      },
      "execution_count": 18,
      "outputs": [
        {
          "output_type": "stream",
          "name": "stdout",
          "text": [
            "[1 2 3 4 5]\n",
            "[[1 2 3]\n",
            " [4 5 6]]\n",
            "[[0. 0. 0.]\n",
            " [0. 0. 0.]\n",
            " [0. 0. 0.]]\n",
            "[1 2 3 4 5 6]\n"
          ]
        }
      ]
    },
    {
      "cell_type": "code",
      "source": [
        "# Indexing a 1D array\n",
        "print(arr1d[0])   # Access first element\n",
        "\n",
        "# Indexing a 2D array\n",
        "print(arr2d[1, 2])  # Access element at 2nd row, 3rd column\n",
        "\n",
        "# Slicing a 1D array\n",
        "print(arr1d[1:4])   # Slice elements from index 1 to 3\n"
      ],
      "metadata": {
        "colab": {
          "base_uri": "https://localhost:8080/"
        },
        "id": "ml2YAg1PNAUJ",
        "outputId": "d9d7545a-14b1-4797-ade7-22268eb81132"
      },
      "execution_count": 19,
      "outputs": [
        {
          "output_type": "stream",
          "name": "stdout",
          "text": [
            "1\n",
            "6\n",
            "[2 3 4]\n"
          ]
        }
      ]
    },
    {
      "cell_type": "code",
      "source": [
        "# Element-wise addition, subtraction, multiplication, and division\n",
        "arr1d_2 = np.array([5, 6, 7, 8, 9])\n",
        "\n",
        "# Add two arrays\n",
        "result_add = arr1d + arr1d_2\n",
        "\n",
        "# Multiply arrays\n",
        "result_mul = arr1d * 2\n",
        "\n",
        "# Broadcasting (works on arrays of different shapes)\n",
        "result_broadcast = arr1d / 2  # Add 2 to each element\n",
        "\n",
        "print(result_add)\n",
        "print(result_mul)\n",
        "print(result_broadcast)\n"
      ],
      "metadata": {
        "colab": {
          "base_uri": "https://localhost:8080/"
        },
        "id": "2RhSVQ96NCC_",
        "outputId": "0a22d765-16e6-4e1c-ca49-0a32aa4ae4b4"
      },
      "execution_count": 20,
      "outputs": [
        {
          "output_type": "stream",
          "name": "stdout",
          "text": [
            "[ 6  8 10 12 14]\n",
            "[ 2  4  6  8 10]\n",
            "[0.5 1.  1.5 2.  2.5]\n"
          ]
        }
      ]
    },
    {
      "cell_type": "code",
      "source": [
        "# Generating random data\n",
        "data = np.random.randint(40, 100,size =(100,1))\n",
        "print(data)\n",
        "\n",
        "# Mean, standard deviation, and variance\n",
        "mean = np.mean(data)\n",
        "print()\n",
        "std_dev = np.std(data)\n",
        "\n",
        "variance = np.var(data)\n",
        "\n",
        "# Percentiles\n",
        "percentile_25 = np.percentile(data, 25)\n",
        "median = np.median(data)\n",
        "\n",
        "print(f\"Mean: {mean}, Std Dev: {std_dev}, Variance: {variance}\")\n",
        "print(f\"25th Percentile: {percentile_25}, Median: {median}\")\n"
      ],
      "metadata": {
        "colab": {
          "base_uri": "https://localhost:8080/"
        },
        "id": "2Poma7YtOK1v",
        "outputId": "cec2f91b-c9d6-420a-e578-9d9a97ee654a"
      },
      "execution_count": 21,
      "outputs": [
        {
          "output_type": "stream",
          "name": "stdout",
          "text": [
            "[[62]\n",
            " [49]\n",
            " [66]\n",
            " [65]\n",
            " [77]\n",
            " [49]\n",
            " [77]\n",
            " [67]\n",
            " [77]\n",
            " [70]\n",
            " [85]\n",
            " [90]\n",
            " [42]\n",
            " [43]\n",
            " [53]\n",
            " [51]\n",
            " [97]\n",
            " [46]\n",
            " [61]\n",
            " [41]\n",
            " [78]\n",
            " [67]\n",
            " [44]\n",
            " [41]\n",
            " [99]\n",
            " [42]\n",
            " [41]\n",
            " [88]\n",
            " [40]\n",
            " [55]\n",
            " [87]\n",
            " [97]\n",
            " [85]\n",
            " [71]\n",
            " [50]\n",
            " [92]\n",
            " [46]\n",
            " [88]\n",
            " [56]\n",
            " [88]\n",
            " [83]\n",
            " [88]\n",
            " [55]\n",
            " [43]\n",
            " [54]\n",
            " [88]\n",
            " [78]\n",
            " [73]\n",
            " [59]\n",
            " [74]\n",
            " [65]\n",
            " [93]\n",
            " [76]\n",
            " [48]\n",
            " [61]\n",
            " [87]\n",
            " [50]\n",
            " [92]\n",
            " [84]\n",
            " [69]\n",
            " [49]\n",
            " [98]\n",
            " [77]\n",
            " [69]\n",
            " [85]\n",
            " [62]\n",
            " [62]\n",
            " [60]\n",
            " [69]\n",
            " [53]\n",
            " [40]\n",
            " [59]\n",
            " [61]\n",
            " [76]\n",
            " [94]\n",
            " [97]\n",
            " [84]\n",
            " [49]\n",
            " [61]\n",
            " [43]\n",
            " [94]\n",
            " [41]\n",
            " [40]\n",
            " [47]\n",
            " [93]\n",
            " [84]\n",
            " [95]\n",
            " [87]\n",
            " [70]\n",
            " [46]\n",
            " [45]\n",
            " [55]\n",
            " [76]\n",
            " [45]\n",
            " [71]\n",
            " [90]\n",
            " [50]\n",
            " [87]\n",
            " [66]\n",
            " [91]]\n",
            "\n",
            "Mean: 67.64, Std Dev: 18.287438311584264, Variance: 334.43039999999996\n",
            "25th Percentile: 50.0, Median: 67.0\n"
          ]
        }
      ]
    },
    {
      "cell_type": "code",
      "source": [
        "# Sorting an array\n",
        "sorted_data = np.sort(data)\n",
        "print(sorted_data)\n",
        "\n",
        "\n"
      ],
      "metadata": {
        "colab": {
          "base_uri": "https://localhost:8080/"
        },
        "id": "XcUpXvpMPUj_",
        "outputId": "3f0ceff9-8d8e-4fbc-f418-c742ed6ed65b"
      },
      "execution_count": 22,
      "outputs": [
        {
          "output_type": "stream",
          "name": "stdout",
          "text": [
            "[[62]\n",
            " [49]\n",
            " [66]\n",
            " [65]\n",
            " [77]\n",
            " [49]\n",
            " [77]\n",
            " [67]\n",
            " [77]\n",
            " [70]\n",
            " [85]\n",
            " [90]\n",
            " [42]\n",
            " [43]\n",
            " [53]\n",
            " [51]\n",
            " [97]\n",
            " [46]\n",
            " [61]\n",
            " [41]\n",
            " [78]\n",
            " [67]\n",
            " [44]\n",
            " [41]\n",
            " [99]\n",
            " [42]\n",
            " [41]\n",
            " [88]\n",
            " [40]\n",
            " [55]\n",
            " [87]\n",
            " [97]\n",
            " [85]\n",
            " [71]\n",
            " [50]\n",
            " [92]\n",
            " [46]\n",
            " [88]\n",
            " [56]\n",
            " [88]\n",
            " [83]\n",
            " [88]\n",
            " [55]\n",
            " [43]\n",
            " [54]\n",
            " [88]\n",
            " [78]\n",
            " [73]\n",
            " [59]\n",
            " [74]\n",
            " [65]\n",
            " [93]\n",
            " [76]\n",
            " [48]\n",
            " [61]\n",
            " [87]\n",
            " [50]\n",
            " [92]\n",
            " [84]\n",
            " [69]\n",
            " [49]\n",
            " [98]\n",
            " [77]\n",
            " [69]\n",
            " [85]\n",
            " [62]\n",
            " [62]\n",
            " [60]\n",
            " [69]\n",
            " [53]\n",
            " [40]\n",
            " [59]\n",
            " [61]\n",
            " [76]\n",
            " [94]\n",
            " [97]\n",
            " [84]\n",
            " [49]\n",
            " [61]\n",
            " [43]\n",
            " [94]\n",
            " [41]\n",
            " [40]\n",
            " [47]\n",
            " [93]\n",
            " [84]\n",
            " [95]\n",
            " [87]\n",
            " [70]\n",
            " [46]\n",
            " [45]\n",
            " [55]\n",
            " [76]\n",
            " [45]\n",
            " [71]\n",
            " [90]\n",
            " [50]\n",
            " [87]\n",
            " [66]\n",
            " [91]]\n"
          ]
        }
      ]
    },
    {
      "cell_type": "code",
      "source": [
        "# Sorting an array\n",
        "sorted_data = np.sort(data)\n",
        "\n",
        "# Finding the index of max and min values\n",
        "max_index = np.argmax(data)\n",
        "min_index = np.argmin(data)\n",
        "\n",
        "# Count occurrences of values (e.g., how many times '5' appears)\n",
        "unique_values, counts = np.unique(data, return_counts=True)\n",
        "\n",
        "print(f\"Max at index: {max_index}, Min at index: {min_index}\")\n",
        "print(f\"Unique values: {unique_values}, Counts: {counts}\")\n"
      ],
      "metadata": {
        "colab": {
          "base_uri": "https://localhost:8080/"
        },
        "id": "P6GCAVfiQs_Q",
        "outputId": "cda64c2e-0bcb-4f13-c17d-61290a5f3954"
      },
      "execution_count": 23,
      "outputs": [
        {
          "output_type": "stream",
          "name": "stdout",
          "text": [
            "Max at index: 24, Min at index: 28\n",
            "Unique values: [40 41 42 43 44 45 46 47 48 49 50 51 53 54 55 56 59 60 61 62 65 66 67 69\n",
            " 70 71 73 74 76 77 78 83 84 85 87 88 90 91 92 93 94 95 97 98 99], Counts: [3 4 2 3 1 2 3 1 1 4 3 1 2 1 3 1 2 1 4 3 2 2 2 3 2 2 1 1 3 4 2 1 3 3 4 5 2\n",
            " 1 2 2 2 1 3 1 1]\n"
          ]
        }
      ]
    },
    {
      "cell_type": "code",
      "source": [
        "# Broadcasting example\n",
        "arr_broadcast = np.array([1, 2, 3])\n",
        "broadcast_result = arr_broadcast * np.array([5])\n",
        "\n",
        "print(broadcast_result)\n"
      ],
      "metadata": {
        "colab": {
          "base_uri": "https://localhost:8080/"
        },
        "id": "xqqS49A4RCc7",
        "outputId": "c1489755-0c05-459a-a131-607dc03f3e97"
      },
      "execution_count": 24,
      "outputs": [
        {
          "output_type": "stream",
          "name": "stdout",
          "text": [
            "[ 5 10 15]\n"
          ]
        }
      ]
    },
    {
      "cell_type": "code",
      "source": [
        "# Saving arrays to files\n",
        "np.save(\"data.npy\", arr1d)\n",
        "\n",
        "# Loading arrays from files\n",
        "loaded_data = np.load(\"data.npy\")\n",
        "\n",
        "print(loaded_data)\n"
      ],
      "metadata": {
        "colab": {
          "base_uri": "https://localhost:8080/"
        },
        "id": "J3BMNGN4ST19",
        "outputId": "915265c6-5e11-4061-ab27-927d2419b0cc"
      },
      "execution_count": 25,
      "outputs": [
        {
          "output_type": "stream",
          "name": "stdout",
          "text": [
            "[1 2 3 4 5]\n"
          ]
        }
      ]
    },
    {
      "cell_type": "markdown",
      "source": [
        "# Pandas"
      ],
      "metadata": {
        "id": "lY56jPzDs1eI"
      }
    },
    {
      "cell_type": "code",
      "source": [
        "import pandas as pd\n",
        "\n",
        "# Series\n",
        "# A pandas Series is a one-dimensional array with labels.\n",
        "\n",
        "# Examples\n",
        "list_data = [1, 2, 3, 4, 5]\n",
        "series = pd.Series(list_data)\n",
        "print(series)\n",
        "\n",
        "# Series with Dictionary:\n",
        "dict_data = {'a': 1, 'b': 2, 'c': 3}\n",
        "series = pd.Series(dict_data)\n",
        "print(series)\n",
        "\n",
        "# Series with Custom Indexes\n",
        "enrollments = [100, 200, 300, 400, 500]\n",
        "months = ['Jan', 'Feb', 'Mar', 'Apr', 'May']\n",
        "series = pd.Series(enrollments, index=months)\n",
        "print(series)"
      ],
      "metadata": {
        "colab": {
          "base_uri": "https://localhost:8080/"
        },
        "id": "rsuxHaAbSt9H",
        "outputId": "32296adf-7f58-4277-ab65-0e685639353d"
      },
      "execution_count": 26,
      "outputs": [
        {
          "output_type": "stream",
          "name": "stdout",
          "text": [
            "0    1\n",
            "1    2\n",
            "2    3\n",
            "3    4\n",
            "4    5\n",
            "dtype: int64\n",
            "a    1\n",
            "b    2\n",
            "c    3\n",
            "dtype: int64\n",
            "Jan    100\n",
            "Feb    200\n",
            "Mar    300\n",
            "Apr    400\n",
            "May    500\n",
            "dtype: int64\n"
          ]
        }
      ]
    },
    {
      "cell_type": "code",
      "source": [
        "# Accessing the series Data:\n",
        "\n",
        "# Accessing by the Position or Index\n",
        "print(series[0])  # 100\n",
        "# Accessing by the Label\n",
        "print(series['Jan'])  # 100\n",
        "# Accessing as Slicing\n",
        "print(series[1:3])  # Feb    200\n",
        "                    # Mar    300\n",
        "print(series['Feb':'Apr'])  # Feb    200\n",
        "                            # Mar    300\n",
        "# Accessing Multiple Elements\n",
        "print(series[['Jan', 'Mar', 'May']])  # Jan    100\n",
        "                                      # Mar    300\n",
        "                                      # May    500"
      ],
      "metadata": {
        "colab": {
          "base_uri": "https://localhost:8080/"
        },
        "id": "Q-pW8P5qTset",
        "outputId": "d26f7439-4bd9-4982-a61d-006a1e8fd2d9"
      },
      "execution_count": 27,
      "outputs": [
        {
          "output_type": "stream",
          "name": "stdout",
          "text": [
            "100\n",
            "100\n",
            "Feb    200\n",
            "Mar    300\n",
            "dtype: int64\n",
            "Feb    200\n",
            "Mar    300\n",
            "Apr    400\n",
            "dtype: int64\n",
            "Jan    100\n",
            "Mar    300\n",
            "May    500\n",
            "dtype: int64\n"
          ]
        },
        {
          "output_type": "stream",
          "name": "stderr",
          "text": [
            "<ipython-input-27-5a229c49b5ed>:4: FutureWarning: Series.__getitem__ treating keys as positions is deprecated. In a future version, integer keys will always be treated as labels (consistent with DataFrame behavior). To access a value by position, use `ser.iloc[pos]`\n",
            "  print(series[0])  # 100\n"
          ]
        }
      ]
    },
    {
      "cell_type": "code",
      "source": [
        "# Series Operations:\n",
        "\n",
        "series = pd.Series([1, 2, 3, 4, None])\n",
        "print(series + 10) # Add 10 to each element\n",
        "print(series - 10) # Subtract 10 from each element\n",
        "print(series * 10) # Multiply each element by 10"
      ],
      "metadata": {
        "colab": {
          "base_uri": "https://localhost:8080/"
        },
        "id": "3hclYsnWT4Wm",
        "outputId": "39ed3e30-ffb6-460b-9e4a-4142c8103827"
      },
      "execution_count": 28,
      "outputs": [
        {
          "output_type": "stream",
          "name": "stdout",
          "text": [
            "0    11.0\n",
            "1    12.0\n",
            "2    13.0\n",
            "3    14.0\n",
            "4     NaN\n",
            "dtype: float64\n",
            "0   -9.0\n",
            "1   -8.0\n",
            "2   -7.0\n",
            "3   -6.0\n",
            "4    NaN\n",
            "dtype: float64\n",
            "0    10.0\n",
            "1    20.0\n",
            "2    30.0\n",
            "3    40.0\n",
            "4     NaN\n",
            "dtype: float64\n"
          ]
        }
      ]
    },
    {
      "cell_type": "code",
      "source": [
        "# Attributes\n",
        "\n",
        "print(series.size)  # 5\n",
        "print(series.shape) # (5,)\n",
        "print(series.dtype) # int64\n",
        "print(series.index) # RangeIndex(start=0, stop=5, step=1)\n",
        "print(series.values) # [1 2 3 4 5]\n",
        "print(series.isnull()) # False\n",
        "print(series.notnull()) # True"
      ],
      "metadata": {
        "colab": {
          "base_uri": "https://localhost:8080/"
        },
        "id": "rYIYmpb3UPMH",
        "outputId": "4f461803-b58f-45aa-e0cf-61a7f895b11e"
      },
      "execution_count": 29,
      "outputs": [
        {
          "output_type": "stream",
          "name": "stdout",
          "text": [
            "5\n",
            "(5,)\n",
            "float64\n",
            "RangeIndex(start=0, stop=5, step=1)\n",
            "[ 1.  2.  3.  4. nan]\n",
            "0    False\n",
            "1    False\n",
            "2    False\n",
            "3    False\n",
            "4     True\n",
            "dtype: bool\n",
            "0     True\n",
            "1     True\n",
            "2     True\n",
            "3     True\n",
            "4    False\n",
            "dtype: bool\n"
          ]
        }
      ]
    },
    {
      "cell_type": "code",
      "source": [
        "\n",
        "\n",
        "print(series.sum()) # 15\n",
        "print(series.mean()) # 3.0\n",
        "print(series.median()) # 3.0\n",
        "print(series.count()) # 5"
      ],
      "metadata": {
        "colab": {
          "base_uri": "https://localhost:8080/"
        },
        "id": "mnM7Z_rdUUjm",
        "outputId": "4ced4546-2eca-4d58-8f21-5917dff687c0"
      },
      "execution_count": 30,
      "outputs": [
        {
          "output_type": "stream",
          "name": "stdout",
          "text": [
            "10.0\n",
            "2.5\n",
            "2.5\n",
            "4\n"
          ]
        }
      ]
    },
    {
      "cell_type": "markdown",
      "source": [
        "Homeworrk by nexturn"
      ],
      "metadata": {
        "id": "Rlc3YjRuY1yy"
      }
    },
    {
      "cell_type": "code",
      "source": [
        "sales_data = pd.Series([150, 200, 90, 120, 300],\n",
        "    index=['Product A', 'Product B', 'Product C', 'Product D', 'Product E'],)\n",
        "\n",
        "print(sales_data)\n",
        "\n",
        "\n",
        "# Exercise 2: Total Sales for the Week\n",
        "\"\"\"Considering we have a one week of sales data from monday to friday\"\"\"\n",
        "total_sales = sales_data.sum()\n",
        "print(\"Total Sales for the Week :\",total_sales)\n",
        "\n",
        "# Exercise 3: Average Sales for the Week\n",
        "average = sales_data.mean()\n",
        "print(\"Avg sales :\",average)\n",
        "\n",
        "# Exercise 4 : Highest and Lowest Selling Products\n",
        "highest_selling = sales_data.idxmax()\n",
        "lowest_selling = sales_data.idxmin()\n",
        "\n",
        "print(\"Highest Selling Product:\", highest_selling)\n",
        "print(\"Lowest Selling Product:\", lowest_selling)\n",
        "\n",
        "#Checking the product with Low Sales\n",
        "high_sales = sales_data[sales_data > 150]\n",
        "print(\"Products with Sales above 150 units:\\n\", high_sales)\n",
        "\n",
        "#Checking the product with Low Sales\n",
        "low_sales = sales_data[sales_data < 100]\n",
        "print(\"Products with Low Sales:\\n\", low_sales)\n",
        "\n",
        "sales_data['Product F'] = 100\n",
        "print(\"Updated Sales Data:\\n\", sales_data)\n",
        "\n",
        "\n",
        "\n",
        "\n",
        "\n",
        "\n",
        "\n",
        "\n",
        "\n",
        "\n",
        "\n",
        "\n",
        "\n",
        "\n"
      ],
      "metadata": {
        "colab": {
          "base_uri": "https://localhost:8080/"
        },
        "id": "huavt23YU0xB",
        "outputId": "5f78f6af-040f-44c4-8938-e9a3abad86e1"
      },
      "execution_count": 31,
      "outputs": [
        {
          "output_type": "stream",
          "name": "stdout",
          "text": [
            "Product A    150\n",
            "Product B    200\n",
            "Product C     90\n",
            "Product D    120\n",
            "Product E    300\n",
            "dtype: int64\n",
            "Total Sales for the Week : 860\n",
            "Avg sales : 172.0\n",
            "Highest Selling Product: Product E\n",
            "Lowest Selling Product: Product C\n",
            "Products with Sales above 150 units:\n",
            " Product B    200\n",
            "Product E    300\n",
            "dtype: int64\n",
            "Products with Low Sales:\n",
            " Product C    90\n",
            "dtype: int64\n",
            "Updated Sales Data:\n",
            " Product A    150\n",
            "Product B    200\n",
            "Product C     90\n",
            "Product D    120\n",
            "Product E    300\n",
            "Product F    100\n",
            "dtype: int64\n"
          ]
        }
      ]
    },
    {
      "cell_type": "code",
      "source": [
        "import pandas as pd\n",
        "\n",
        "# Creating a panda dataframe for Product Sales from a dictionary\n",
        "\n",
        "data = {\n",
        "    'Product': ['Product A', 'Product B', 'Product C', 'Product D'],\n",
        "    'Price': [150, 200, 90, 120],\n",
        "    'Units Sold': [100, 150, 50, 70]\n",
        "}\n",
        "\n",
        "df = pd.DataFrame(data)\n",
        "print(df)\n",
        "\n",
        "# Basic Operation on DataFrame:\n",
        "\n",
        "# Viewing the Data\n",
        "\n",
        "# Display the first 5 rows of the DataFrame\n",
        "print(\"\\nFirst 5 rows of the DataFrame:\")\n",
        "print(df.head())\n",
        "# Display the first 2 rows of the DataFrame\n",
        "print(\"\\nFirst 2 rows of the DataFrame:\")\n",
        "print(df.head(2))\n",
        "\n",
        "# Display the last 3 rows of the DataFrame\n",
        "print(\"\\nLast 3 rows of the DataFrame:\")\n",
        "print(df.tail(3))\n",
        "\n",
        "# Shape of the DataFrame\n",
        "print(\"\\nShape of the DataFrame:\", df.shape)\n",
        "\n",
        "# Information about the DataFrame\n",
        "print(\"\\nInformation about the DataFrame:\")\n",
        "print(df.info())\n",
        "\n",
        "# Display the columns of the DataFrame\n",
        "print(\"\\nColumns of the DataFrame:\")\n",
        "print(df.columns)\n",
        "\n",
        "# Get the summary or statistics of the Data frame\n",
        "print(\"\\nSummary of the DataFrame:\")\n",
        "print(df.describe())\n",
        "\n",
        "# **************************************** #\n",
        "\n",
        "# Selecting Columns\n",
        "\n",
        "print(df['Product'])\n",
        "print(df[['Product', 'Price']])\n",
        "\n",
        "# Selecting Rows\n",
        "\n",
        "print(df.iloc[0])   # Selecting the first row\n",
        "print(df.loc[0])    # Selecting the first row\n",
        "\n",
        "# Selecting Multiple Rows\n",
        "print(df.iloc[0:2]) # Selecting the first two rows\n",
        "\n",
        "# Selecting Rows based on Condition\n",
        "print(df[df['Price'] > 100])\n",
        "\n",
        "# **************************************** #\n",
        "\n",
        "# Adding or Removing the Data to/from DataFrame\n",
        "\n",
        "# Adding a new column to the DataFrame\n",
        "# df['Total_Sales'] = df['Price'] * df['Units Sold']\n",
        "# print(df)\n",
        "\n",
        "# Removing a column from the DataFrame\n",
        "# df.drop('Total_Sales', axis=1, inplace=True)\n",
        "# print(df)\n",
        "\n",
        "# Adding a new row to the DataFrame\n",
        "new_row = {'Product': 'Product E', 'Price': 250, 'Units Sold': 120}\n",
        "another_row = {'Product': 'Product F', 'Price': 180, 'Units Sold': 90}\n",
        "df = df._append(new_row, ignore_index=True)\n",
        "df = df._append(another_row, ignore_index=True)\n",
        "print(df)\n",
        "\n",
        "# Adding a new column again..\n",
        "df['Total_Sales'] = df['Price'] * df['Units Sold']\n",
        "print(df)\n",
        "\n",
        "# **************************************** #\n",
        "\n",
        "# Filter Products with Total Sales above 10000\n",
        "high_price_products = df[df['Total_Sales'] > 10000]\n",
        "print(\"\\nProducts with Total Sales above 10000:\\n\", high_price_products)\n",
        "\n",
        "# Filter Products Priced Below Average Price\n",
        "below_avg_price = df[df['Price'] < df['Price'].mean()]\n",
        "print(\"\\nProducts Priced Below Average Price:\\n\", below_avg_price)\n",
        "\n",
        "# **************************************** #\n",
        "\n",
        "# Grouping Data\n",
        "\n",
        "# Adding a Category Column to Data Frame\n",
        "\n",
        "df['Category'] = ['Electronics', 'Clothing', 'Electronics', 'Grocery', 'Electronics', 'Clothing']\n",
        "print(df)\n",
        "\n",
        "# Grouping Data by Category and Calculating the total sales for each category\n",
        "grouped_data = df.groupby('Category')['Total_Sales'].sum()\n",
        "print(\"\\nGrouped Data by Category:\")\n",
        "print(grouped_data)"
      ],
      "metadata": {
        "id": "NKdMqfZXV9_4",
        "colab": {
          "base_uri": "https://localhost:8080/"
        },
        "outputId": "53375712-5187-41ab-9ee0-466409074931"
      },
      "execution_count": 32,
      "outputs": [
        {
          "output_type": "stream",
          "name": "stdout",
          "text": [
            "     Product  Price  Units Sold\n",
            "0  Product A    150         100\n",
            "1  Product B    200         150\n",
            "2  Product C     90          50\n",
            "3  Product D    120          70\n",
            "\n",
            "First 5 rows of the DataFrame:\n",
            "     Product  Price  Units Sold\n",
            "0  Product A    150         100\n",
            "1  Product B    200         150\n",
            "2  Product C     90          50\n",
            "3  Product D    120          70\n",
            "\n",
            "First 2 rows of the DataFrame:\n",
            "     Product  Price  Units Sold\n",
            "0  Product A    150         100\n",
            "1  Product B    200         150\n",
            "\n",
            "Last 3 rows of the DataFrame:\n",
            "     Product  Price  Units Sold\n",
            "1  Product B    200         150\n",
            "2  Product C     90          50\n",
            "3  Product D    120          70\n",
            "\n",
            "Shape of the DataFrame: (4, 3)\n",
            "\n",
            "Information about the DataFrame:\n",
            "<class 'pandas.core.frame.DataFrame'>\n",
            "RangeIndex: 4 entries, 0 to 3\n",
            "Data columns (total 3 columns):\n",
            " #   Column      Non-Null Count  Dtype \n",
            "---  ------      --------------  ----- \n",
            " 0   Product     4 non-null      object\n",
            " 1   Price       4 non-null      int64 \n",
            " 2   Units Sold  4 non-null      int64 \n",
            "dtypes: int64(2), object(1)\n",
            "memory usage: 224.0+ bytes\n",
            "None\n",
            "\n",
            "Columns of the DataFrame:\n",
            "Index(['Product', 'Price', 'Units Sold'], dtype='object')\n",
            "\n",
            "Summary of the DataFrame:\n",
            "            Price  Units Sold\n",
            "count    4.000000    4.000000\n",
            "mean   140.000000   92.500000\n",
            "std     46.904158   43.493295\n",
            "min     90.000000   50.000000\n",
            "25%    112.500000   65.000000\n",
            "50%    135.000000   85.000000\n",
            "75%    162.500000  112.500000\n",
            "max    200.000000  150.000000\n",
            "0    Product A\n",
            "1    Product B\n",
            "2    Product C\n",
            "3    Product D\n",
            "Name: Product, dtype: object\n",
            "     Product  Price\n",
            "0  Product A    150\n",
            "1  Product B    200\n",
            "2  Product C     90\n",
            "3  Product D    120\n",
            "Product       Product A\n",
            "Price               150\n",
            "Units Sold          100\n",
            "Name: 0, dtype: object\n",
            "Product       Product A\n",
            "Price               150\n",
            "Units Sold          100\n",
            "Name: 0, dtype: object\n",
            "     Product  Price  Units Sold\n",
            "0  Product A    150         100\n",
            "1  Product B    200         150\n",
            "     Product  Price  Units Sold\n",
            "0  Product A    150         100\n",
            "1  Product B    200         150\n",
            "3  Product D    120          70\n",
            "     Product  Price  Units Sold\n",
            "0  Product A    150         100\n",
            "1  Product B    200         150\n",
            "2  Product C     90          50\n",
            "3  Product D    120          70\n",
            "4  Product E    250         120\n",
            "5  Product F    180          90\n",
            "     Product  Price  Units Sold  Total_Sales\n",
            "0  Product A    150         100        15000\n",
            "1  Product B    200         150        30000\n",
            "2  Product C     90          50         4500\n",
            "3  Product D    120          70         8400\n",
            "4  Product E    250         120        30000\n",
            "5  Product F    180          90        16200\n",
            "\n",
            "Products with Total Sales above 10000:\n",
            "      Product  Price  Units Sold  Total_Sales\n",
            "0  Product A    150         100        15000\n",
            "1  Product B    200         150        30000\n",
            "4  Product E    250         120        30000\n",
            "5  Product F    180          90        16200\n",
            "\n",
            "Products Priced Below Average Price:\n",
            "      Product  Price  Units Sold  Total_Sales\n",
            "0  Product A    150         100        15000\n",
            "2  Product C     90          50         4500\n",
            "3  Product D    120          70         8400\n",
            "     Product  Price  Units Sold  Total_Sales     Category\n",
            "0  Product A    150         100        15000  Electronics\n",
            "1  Product B    200         150        30000     Clothing\n",
            "2  Product C     90          50         4500  Electronics\n",
            "3  Product D    120          70         8400      Grocery\n",
            "4  Product E    250         120        30000  Electronics\n",
            "5  Product F    180          90        16200     Clothing\n",
            "\n",
            "Grouped Data by Category:\n",
            "Category\n",
            "Clothing       46200\n",
            "Electronics    49500\n",
            "Grocery         8400\n",
            "Name: Total_Sales, dtype: int64\n"
          ]
        }
      ]
    },
    {
      "cell_type": "code",
      "source": [
        "import pandas as pd\n",
        "\n",
        "# Creating the dataset with updated quantities\n",
        "data = {\n",
        "    'Customer ID': [101, 102, 103, 104, 105],\n",
        "    'Customer Name': ['Tom', 'Jerry', 'Mickey', 'Minnie', 'Donald'],\n",
        "    'Product': ['Laptop', 'Smartphone', 'Tablet', 'Laptop', 'Smartphone'],\n",
        "    'Price': [1200, 800, 400, 1200, 800],\n",
        "    'Quantity': [1, 2, 2, 1, 3],\n",
        "    'Purchase Date': pd.to_datetime(['2021-06-01', '2021-01-02', '2021-01-03', '2021-01-04', '2021-01-05'])\n",
        "}\n",
        "\n",
        "# Creating the DataFrame\n",
        "df = pd.DataFrame(data)\n",
        "\n",
        "# Printing the DataFrame and its shape\n",
        "print(df)\n",
        "print(df.shape)\n",
        "\n",
        "# 1. Total Revenue\n",
        "df['Total Price'] = df['Price'] * df['Quantity']\n",
        "total_revenue = df['Total Price'].sum()\n",
        "print(f\"Total Revenue: {total_revenue}\")\n",
        "\n",
        "# 2. Customer with the Highest Purchase\n",
        "highest_purchase_customer = df.loc[df['Total Price'].idxmax(), 'Customer Name']\n",
        "print(f\"Customer with the Highest Purchase: {highest_purchase_customer}\")\n",
        "\n",
        "# 3. Most Purchased Product\n",
        "most_purchased_product = df['Product'].mode()[0]\n",
        "print(f\"Most Purchased Product: {most_purchased_product}\")\n",
        "\n",
        "# 4. Purchases in January per Customer\n",
        "january_purchases = df[df['Purchase Date'].dt.month == 1]\n",
        "print(\"January Purchases Per Customer:\")\n",
        "print(january_purchases[['Customer Name', 'Total Price']])\n"
      ],
      "metadata": {
        "colab": {
          "base_uri": "https://localhost:8080/"
        },
        "id": "evh51EHTtQ8k",
        "outputId": "aff2f511-577c-46e1-8647-855827897a21"
      },
      "execution_count": 33,
      "outputs": [
        {
          "output_type": "stream",
          "name": "stdout",
          "text": [
            "   Customer ID Customer Name     Product  Price  Quantity Purchase Date\n",
            "0          101           Tom      Laptop   1200         1    2021-06-01\n",
            "1          102         Jerry  Smartphone    800         2    2021-01-02\n",
            "2          103        Mickey      Tablet    400         2    2021-01-03\n",
            "3          104        Minnie      Laptop   1200         1    2021-01-04\n",
            "4          105        Donald  Smartphone    800         3    2021-01-05\n",
            "(5, 6)\n",
            "Total Revenue: 7200\n",
            "Customer with the Highest Purchase: Donald\n",
            "Most Purchased Product: Laptop\n",
            "January Purchases Per Customer:\n",
            "  Customer Name  Total Price\n",
            "1         Jerry         1600\n",
            "2        Mickey          800\n",
            "3        Minnie         1200\n",
            "4        Donald         2400\n"
          ]
        }
      ]
    },
    {
      "cell_type": "markdown",
      "source": [
        "# Linear Algebra Functions\n",
        "\n",
        "Matrix Multiplication: Using np.dot() or @ to perform matrix multiplication.\n",
        "\n",
        "Eigenvalues and Eigenvectors: Solving eigenvalue problems with np.linalg.eig().\n",
        "\n",
        "Determinants: Calculate the determinant of a matrix using np.linalg.det().\n",
        "\n",
        "Solving Linear Systems: Solve systems of linear equations with np.linalg.solve()."
      ],
      "metadata": {
        "id": "-VyW4vXZvX7l"
      }
    },
    {
      "cell_type": "code",
      "source": [
        "import numpy as np\n",
        "\n",
        "# Example matrix multiplication\n",
        "A = np.array([[1, 2], [3, 4]])\n",
        "B = np.array([[5, 6], [7, 8]])\n",
        "\n",
        "# Matrix multiplication using np.dot or @ operator\n",
        "result_dot = np.dot(A, B)\n",
        "result_at = A @ B\n",
        "print(\"Matrix multiplication using np.dot:\\n\", result_dot)\n",
        "print(\"Matrix multiplication using @ operator:\\n\", result_at)\n",
        "\n",
        "# Eigenvalues and eigenvectors\n",
        "eigenvalues, eigenvectors = np.linalg.eig(A)\n",
        "print(\"Eigenvalues of A:\", eigenvalues)\n",
        "print(\"Eigenvectors of A:\\n\", eigenvectors)\n",
        "\n",
        "# Determinant of matrix A\n",
        "det_A = np.linalg.det(A)\n",
        "print(\"Determinant of A:\", det_A)\n",
        "\n",
        "# Solving linear equations\n",
        "# Example: Ax = b, where A is a matrix and b is a vector\n",
        "b = np.array([1, 2])\n",
        "x = np.linalg.solve(A, b)\n",
        "print(\"Solution to the linear system Ax = b:\", x)\n"
      ],
      "metadata": {
        "colab": {
          "base_uri": "https://localhost:8080/"
        },
        "id": "C2b1DSFEQFkb",
        "outputId": "3ba053c6-19ca-46f7-ae48-e6b1da09d4fc"
      },
      "execution_count": 34,
      "outputs": [
        {
          "output_type": "stream",
          "name": "stdout",
          "text": [
            "Matrix multiplication using np.dot:\n",
            " [[19 22]\n",
            " [43 50]]\n",
            "Matrix multiplication using @ operator:\n",
            " [[19 22]\n",
            " [43 50]]\n",
            "Eigenvalues of A: [-0.37228132  5.37228132]\n",
            "Eigenvectors of A:\n",
            " [[-0.82456484 -0.41597356]\n",
            " [ 0.56576746 -0.90937671]]\n",
            "Determinant of A: -2.0000000000000004\n",
            "Solution to the linear system Ax = b: [0.  0.5]\n"
          ]
        }
      ]
    },
    {
      "cell_type": "markdown",
      "source": [
        "# Final Case Study: NumPy for Data Analysis\n",
        "Now, let's apply everything you've learned to solve a case study using NumPy for data analysis.\n",
        "\n",
        "Case Study: Analyzing a Toy Sales Dataset\n",
        "Problem: You are given a dataset of monthly toy sales for different regions. You need to:\n",
        "\n",
        "Compute the total sales for each month.\n",
        "Find the region with the highest sales in any given month.\n",
        "Calculate the average monthly sales for each region."
      ],
      "metadata": {
        "id": "E2N5cHrZQeJM"
      }
    },
    {
      "cell_type": "code",
      "source": [
        "import numpy as np\n",
        "\n",
        "# Toy sales data (rows: regions, columns: months)\n",
        "sales_data = np.array([\n",
        "    [200, 220, 250, 300, 310],  # Region 1\n",
        "    [180, 210, 230, 280, 300],  # Region 2\n",
        "    [150, 190, 220, 270, 290],  # Region 3\n",
        "])\n",
        "\n",
        "months = [\"Jan\", \"Feb\", \"Mar\", \"Apr\", \"May\"]\n",
        "regions = [\"Region 1\", \"Region 2\", \"Region 3\"]\n"
      ],
      "metadata": {
        "id": "0K-zhVKtUDHF"
      },
      "execution_count": 35,
      "outputs": []
    },
    {
      "cell_type": "code",
      "source": [
        "# total sales of each month\n",
        "# Calculate total sales for January (first column)\n",
        "total_sales_january = np.sum(sales_data[:, 0])\n",
        "print(\"Jan total sales:\",total_sales_january)\n",
        "\n",
        "total_sales_feb = np.sum(sales_data[:, 1])\n",
        "print(\"feb total sales:\",total_sales_feb)"
      ],
      "metadata": {
        "colab": {
          "base_uri": "https://localhost:8080/"
        },
        "id": "oIShjtGhUS64",
        "outputId": "cc7ef182-a99d-4cce-ef04-2cd304102d0e"
      },
      "execution_count": 36,
      "outputs": [
        {
          "output_type": "stream",
          "name": "stdout",
          "text": [
            "Jan total sales: 530\n",
            "feb total sales: 620\n"
          ]
        }
      ]
    },
    {
      "cell_type": "code",
      "source": [],
      "metadata": {
        "id": "6AFe3ZqyWlrL"
      },
      "execution_count": 36,
      "outputs": []
    },
    {
      "cell_type": "code",
      "source": [
        "region1 = np.sum(sales_data[0,:])\n",
        "print(\"region 1 : \",region1)\n",
        "\n",
        "region2 = np.sum(sales_data[1,:])\n",
        "print(\"region 2: \",region2)\n",
        "\n",
        "region3 = np.sum(sales_data[2,:])\n",
        "print(\"region 3 : \",region3)\n",
        "\n",
        "highest_sales_by_region = np.max([region1,region2,region3])\n",
        "print(f\"highest sales {highest_sales_by_region}\")"
      ],
      "metadata": {
        "colab": {
          "base_uri": "https://localhost:8080/"
        },
        "id": "paGikEs_VDLh",
        "outputId": "7ccb7e6d-4d23-4035-84e0-fe4dfa5097c4"
      },
      "execution_count": 37,
      "outputs": [
        {
          "output_type": "stream",
          "name": "stdout",
          "text": [
            "region 1 :  1280\n",
            "region 2:  1200\n",
            "region 3 :  1120\n",
            "highest sales 1280\n"
          ]
        }
      ]
    },
    {
      "cell_type": "code",
      "source": [
        "# Compute total sales for each month\n",
        "total_sales_per_month = np.sum(sales_data, axis=0)\n",
        "\n",
        "# Display the total sales for each month\n",
        "for month, total in zip(months, total_sales_per_month):\n",
        "    print(f\"Total sales in {month}: {total}\")\n"
      ],
      "metadata": {
        "colab": {
          "base_uri": "https://localhost:8080/"
        },
        "id": "i5bORJtUWvl1",
        "outputId": "a362d9c4-8682-4bcc-bd4e-f09f58deff2f"
      },
      "execution_count": 38,
      "outputs": [
        {
          "output_type": "stream",
          "name": "stdout",
          "text": [
            "Total sales in Jan: 530\n",
            "Total sales in Feb: 620\n",
            "Total sales in Mar: 700\n",
            "Total sales in Apr: 850\n",
            "Total sales in May: 900\n"
          ]
        }
      ]
    },
    {
      "cell_type": "code",
      "source": [
        "highest_sales_by_region = np.sum(sales_data, axis = 1)\n",
        "for region,total in zip(regions, highest_sales_by_region):\n",
        "  print(f\"{region}:{total}\")\n"
      ],
      "metadata": {
        "colab": {
          "base_uri": "https://localhost:8080/"
        },
        "id": "mgn9MiYaY-lK",
        "outputId": "e48ba84c-c0bd-43e9-d61f-a93a9b23113c"
      },
      "execution_count": 39,
      "outputs": [
        {
          "output_type": "stream",
          "name": "stdout",
          "text": [
            "Region 1:1280\n",
            "Region 2:1200\n",
            "Region 3:1120\n"
          ]
        }
      ]
    },
    {
      "cell_type": "code",
      "source": [
        "highest_sales_by_region = np.mean(sales_data, axis = 1)\n",
        "for region,total in zip(regions, highest_sales_by_region):\n",
        "  print(f\"{region}:{total}\")"
      ],
      "metadata": {
        "colab": {
          "base_uri": "https://localhost:8080/"
        },
        "id": "OxOE4gEKaI8E",
        "outputId": "0a228240-2fc0-48c8-84ab-0d1c3f509381"
      },
      "execution_count": 40,
      "outputs": [
        {
          "output_type": "stream",
          "name": "stdout",
          "text": [
            "Region 1:256.0\n",
            "Region 2:240.0\n",
            "Region 3:224.0\n"
          ]
        }
      ]
    },
    {
      "cell_type": "code",
      "source": [
        "# Compute average monthly sales for each region\n",
        "average_sales_per_region = np.mean(sales_data, axis=1)\n",
        "\n",
        "# Display the average monthly sales for each region\n",
        "for region, average in zip(regions, average_sales_per_region):\n",
        "    print(f\"Average monthly sales for {region}: {average:.2f}\")\n"
      ],
      "metadata": {
        "colab": {
          "base_uri": "https://localhost:8080/"
        },
        "id": "PIQPcDAfbpeC",
        "outputId": "96be96e0-9eea-4f86-df8c-e6d9699516ca"
      },
      "execution_count": 41,
      "outputs": [
        {
          "output_type": "stream",
          "name": "stdout",
          "text": [
            "Average monthly sales for Region 1: 256.00\n",
            "Average monthly sales for Region 2: 240.00\n",
            "Average monthly sales for Region 3: 224.00\n"
          ]
        }
      ]
    },
    {
      "cell_type": "code",
      "source": [
        "# Find the region with the highest sales for each month\n",
        "highest_sales_indices = np.argmax(sales_data, axis=0)\n",
        "\n",
        "# Display the region with the highest sales for each month\n",
        "for month, index in zip(months, highest_sales_indices):\n",
        "    print(f\"Highest sales in {month}: {regions[index]} with {sales_data[index][months.index(month)]} sales\")\n"
      ],
      "metadata": {
        "colab": {
          "base_uri": "https://localhost:8080/"
        },
        "id": "oTWO8XshcIq_",
        "outputId": "08b6e313-afca-4436-9518-436a58393be5"
      },
      "execution_count": 42,
      "outputs": [
        {
          "output_type": "stream",
          "name": "stdout",
          "text": [
            "Highest sales in Jan: Region 1 with 200 sales\n",
            "Highest sales in Feb: Region 1 with 220 sales\n",
            "Highest sales in Mar: Region 1 with 250 sales\n",
            "Highest sales in Apr: Region 1 with 300 sales\n",
            "Highest sales in May: Region 1 with 310 sales\n"
          ]
        }
      ]
    },
    {
      "cell_type": "code",
      "source": [
        "# this why np array is usefull for numerical computation than python list\n",
        "\n",
        "\"\"\"ERROR OCCUR\"\"\"\n",
        "\n",
        "a = [40,50,44]\n",
        "b= [0.2,3.4,5.5]\n",
        "result = (a * b).sum()"
      ],
      "metadata": {
        "id": "jiNvsGjicYb3",
        "colab": {
          "base_uri": "https://localhost:8080/",
          "height": 176
        },
        "outputId": "9ea40a03-9ed4-4a7c-987d-46ad12d24f41"
      },
      "execution_count": 52,
      "outputs": [
        {
          "output_type": "error",
          "ename": "TypeError",
          "evalue": "can't multiply sequence by non-int of type 'list'",
          "traceback": [
            "\u001b[0;31m---------------------------------------------------------------------------\u001b[0m",
            "\u001b[0;31mTypeError\u001b[0m                                 Traceback (most recent call last)",
            "\u001b[0;32m<ipython-input-52-764af479dd5a>\u001b[0m in \u001b[0;36m<cell line: 7>\u001b[0;34m()\u001b[0m\n\u001b[1;32m      5\u001b[0m \u001b[0ma\u001b[0m \u001b[0;34m=\u001b[0m \u001b[0;34m[\u001b[0m\u001b[0;36m40\u001b[0m\u001b[0;34m,\u001b[0m\u001b[0;36m50\u001b[0m\u001b[0;34m,\u001b[0m\u001b[0;36m44\u001b[0m\u001b[0;34m]\u001b[0m\u001b[0;34m\u001b[0m\u001b[0;34m\u001b[0m\u001b[0m\n\u001b[1;32m      6\u001b[0m \u001b[0mb\u001b[0m\u001b[0;34m=\u001b[0m \u001b[0;34m[\u001b[0m\u001b[0;36m0.2\u001b[0m\u001b[0;34m,\u001b[0m\u001b[0;36m3.4\u001b[0m\u001b[0;34m,\u001b[0m\u001b[0;36m5.5\u001b[0m\u001b[0;34m]\u001b[0m\u001b[0;34m\u001b[0m\u001b[0;34m\u001b[0m\u001b[0m\n\u001b[0;32m----> 7\u001b[0;31m \u001b[0mresult\u001b[0m \u001b[0;34m=\u001b[0m \u001b[0;34m(\u001b[0m\u001b[0ma\u001b[0m \u001b[0;34m*\u001b[0m \u001b[0mb\u001b[0m\u001b[0;34m)\u001b[0m\u001b[0;34m.\u001b[0m\u001b[0msum\u001b[0m\u001b[0;34m(\u001b[0m\u001b[0;34m)\u001b[0m\u001b[0;34m\u001b[0m\u001b[0;34m\u001b[0m\u001b[0m\n\u001b[0m",
            "\u001b[0;31mTypeError\u001b[0m: can't multiply sequence by non-int of type 'list'"
          ]
        }
      ]
    },
    {
      "cell_type": "code",
      "source": [
        "a = np.array([40,50,44])\n",
        "b= np.array([0.2,3.4,5.5])\n",
        "result = (a * b).sum()\n",
        "s = a @ b\n",
        "print(s)\n",
        "print(result)"
      ],
      "metadata": {
        "colab": {
          "base_uri": "https://localhost:8080/"
        },
        "id": "1WqsvtRWyRLO",
        "outputId": "d1e38d5c-a604-4f16-ecc6-2882ce57a4fe"
      },
      "execution_count": 50,
      "outputs": [
        {
          "output_type": "stream",
          "name": "stdout",
          "text": [
            "420.0\n",
            "420.0\n"
          ]
        }
      ]
    },
    {
      "cell_type": "code",
      "source": [],
      "metadata": {
        "id": "ZvutyQjHy3pK"
      },
      "execution_count": null,
      "outputs": []
    }
  ]
}